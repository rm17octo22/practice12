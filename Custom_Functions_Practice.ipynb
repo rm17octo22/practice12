{
  "nbformat": 4,
  "nbformat_minor": 0,
  "metadata": {
    "colab": {
      "provenance": [],
      "include_colab_link": true
    },
    "kernelspec": {
      "name": "python3",
      "display_name": "Python 3"
    },
    "language_info": {
      "name": "python"
    }
  },
  "cells": [
    {
      "cell_type": "markdown",
      "metadata": {
        "id": "view-in-github",
        "colab_type": "text"
      },
      "source": [
        "<a href=\"https://colab.research.google.com/github/rm17octo22/practice12/blob/main/Custom_Functions_Practice.ipynb\" target=\"_parent\"><img src=\"https://colab.research.google.com/assets/colab-badge.svg\" alt=\"Open In Colab\"/></a>"
      ]
    },
    {
      "cell_type": "code",
      "execution_count": null,
      "metadata": {
        "colab": {
          "base_uri": "https://localhost:8080/"
        },
        "id": "i1SreZj0eO_A",
        "outputId": "be915dd2-a6dc-4a3d-b339-02d0e4792039"
      },
      "outputs": [
        {
          "output_type": "stream",
          "name": "stdout",
          "text": [
            "(3, 5)\n",
            "(5, 7)\n",
            "(11, 13)\n",
            "(17, 19)\n",
            "(29, 31)\n",
            "(41, 43)\n",
            "(59, 61)\n",
            "(71, 73)\n"
          ]
        }
      ],
      "source": [
        "'''\n",
        "Write a program function to print twin primes less than or equal to 1000.\n",
        "If two consecutive odd numbers are both prime then they are known as twin primes\n",
        "Twin Prime:\n",
        "(3, 5)\n",
        "(5, 7)\n",
        "(11, 13)\n",
        "(17, 19)\n",
        " ....\n",
        "'''\n",
        "def isprime(n):\n",
        "  for i in range(2,n):\n",
        "    if n%i ==0:\n",
        "      return False\n",
        "  return True\n",
        "\n",
        "def twin_prime(a): # a = 10\n",
        "  for i in range(2,a-1): # range(2,9) --> 2,3,4,5.....8 | i & i + 2 both are within the range | Edge cases\n",
        "    if isprime(i) and isprime(i+2):\n",
        "      print((i,i+2))\n",
        "\n",
        "\n",
        "twin_prime(a = 100)\n",
        "\n",
        "# a = 10\n",
        "# (3,5) --> < a within the range a\n",
        "# 9 , 11 --> 11 is out of range 'a'\n",
        "# i : 2 to 8\n",
        "# i & i + 2 both are in the range of till 10\n",
        "\n",
        "\n",
        "# isprime(n=7)\n"
      ]
    },
    {
      "cell_type": "code",
      "source": [
        "'''\n",
        "Write a  Python function that prints out the first n rows of Pascal's triangle.\n",
        "\n",
        "Note : Pascal's triangle is an arithmetic and geometric figure first imagined by Blaise Pascal.\n",
        "Input - n : 6\n",
        "Output -\n",
        "\n",
        "[1]\n",
        "[1, 1]\n",
        "[1, 2, 1]\n",
        "[1, 3, 3, 1]\n",
        "[1, 4, 6, 4, 1]\n",
        "[1, 5, 10, 10, 5, 1]\n",
        "\n",
        "'''\n",
        "\n",
        "# Input:[1,1] --> Output :[1,2,1]\n",
        "# [1,2,1] --> [1,3,3,1]\n",
        "\n",
        "def next_row(_list): # [1,2,1]\n",
        "  _out = [1]\n",
        "  for i in range(len(_list)-1):# Range(0, 3) --> 0,1,2 # _list = [1]. range(1-1)# range(0) --> []\n",
        "    next_num = _list[i] + _list[i+1] # i = 2 . i +1 = 3 , that's not present in the list.\n",
        "    _out.append(next_num)\n",
        "  _out.append(1)\n",
        "  return _out\n",
        "\n",
        "def full_pattern(rows):\n",
        "  pattern_row = [1]\n",
        "  for i in range(rows):\n",
        "    print(pattern_row)\n",
        "    pattern_row = next_row(_list = pattern_row)\n",
        "\n",
        "# Iterations :\n",
        "# pattern_row = [1]\n",
        "# I1 : i =0\n",
        "#print(pattern_row)--> [1]\n",
        "# pattern_row = next_row(_list = [1]) --> [1,1]\n",
        "\n",
        "# I2 : i =1\n",
        "# print(pattern_row) --> [1,1]\n",
        "# pattern_row = next_row(_list = [1,1]) --> [1,2,1]\n",
        "\n",
        "# I3 : i = 2\n",
        "# print(patten_row) --> [1,2,1]\n",
        "# pattern_row = next_row(_list = [1,2,1]) --> [1,3,3,1]\n",
        "\n",
        "\n",
        "full_pattern(rows =6 )\n",
        "\n",
        "# Input : _list = [1,2,1] --> Output : [1,3,3,1]\n",
        "# _list[0] + _list[1] = 3\n",
        "# _list[1] + _list[2] = 3\n",
        "\n",
        "# Input : _list = [1,3,3,1] --> Output : [1,4,6,4,1]\n",
        "# _list[0] + _list[1] = 1+3 = 4\n",
        "# _list[1]  + _list[2] = 3+3 = 6\n",
        "# _list[2] + _list[3] = 3+1 = 4\n",
        "# _list[3] + _list[4] # Index out of range\n",
        "# 0,1,2 --> range(len(_list)-1) # 0,1,2 | len(_list) =4\n",
        "# range(4-1) range(3) --> 0,1,2"
      ],
      "metadata": {
        "id": "F9bNwuWJkP9i",
        "colab": {
          "base_uri": "https://localhost:8080/"
        },
        "outputId": "4409b2c9-6346-42a8-8345-02707ab868ae"
      },
      "execution_count": null,
      "outputs": [
        {
          "output_type": "stream",
          "name": "stdout",
          "text": [
            "[1]\n",
            "[1, 1]\n",
            "[1, 2, 1]\n",
            "[1, 3, 3, 1]\n",
            "[1, 4, 6, 4, 1]\n",
            "[1, 5, 10, 10, 5, 1]\n"
          ]
        }
      ]
    },
    {
      "cell_type": "code",
      "source": [
        "a = 20\n",
        "\n",
        "# i and i + 5 : both are under 20: 20 is included\n",
        "\n",
        "# range() # a-5, a-4 , a-6\n",
        "for i in range(a-4): # range(16) --> i : 15, range(14) --> 0, 13\n",
        "  print(i, i +5)"
      ],
      "metadata": {
        "colab": {
          "base_uri": "https://localhost:8080/"
        },
        "id": "-xDkxcISCV-D",
        "outputId": "dc71eee0-fde6-4b1f-8cb4-6c00f0fdbb35"
      },
      "execution_count": null,
      "outputs": [
        {
          "output_type": "stream",
          "name": "stdout",
          "text": [
            "0 5\n",
            "1 6\n",
            "2 7\n",
            "3 8\n",
            "4 9\n",
            "5 10\n",
            "6 11\n",
            "7 12\n",
            "8 13\n",
            "9 14\n",
            "10 15\n",
            "11 16\n",
            "12 17\n",
            "13 18\n",
            "14 19\n",
            "15 20\n"
          ]
        }
      ]
    },
    {
      "cell_type": "code",
      "source": [
        "(0.2 + 0.1 ) == 0.3"
      ],
      "metadata": {
        "id": "uuEFOFy7MS-7",
        "colab": {
          "base_uri": "https://localhost:8080/"
        },
        "outputId": "50028f80-6fcd-4364-fc3d-2eb2ba174fbd"
      },
      "execution_count": null,
      "outputs": [
        {
          "output_type": "execute_result",
          "data": {
            "text/plain": [
              "False"
            ]
          },
          "metadata": {},
          "execution_count": 1
        }
      ]
    },
    {
      "cell_type": "code",
      "source": [],
      "metadata": {
        "id": "T5rqoNoDCoQF"
      },
      "execution_count": null,
      "outputs": []
    }
  ]
}