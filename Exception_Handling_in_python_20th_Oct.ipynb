{
  "nbformat": 4,
  "nbformat_minor": 0,
  "metadata": {
    "colab": {
      "provenance": [],
      "include_colab_link": true
    },
    "kernelspec": {
      "name": "python3",
      "display_name": "Python 3"
    },
    "language_info": {
      "name": "python"
    }
  },
  "cells": [
    {
      "cell_type": "markdown",
      "metadata": {
        "id": "view-in-github",
        "colab_type": "text"
      },
      "source": [
        "<a href=\"https://colab.research.google.com/github/rm17octo22/practice12/blob/main/Exception_Handling_in_python_20th_Oct.ipynb\" target=\"_parent\"><img src=\"https://colab.research.google.com/assets/colab-badge.svg\" alt=\"Open In Colab\"/></a>"
      ]
    },
    {
      "cell_type": "code",
      "source": [
        "# print the x/y\n",
        "x = int(input())\n",
        "y = int(input())\n",
        "print(x/y) # Divison by 0, not possible\n",
        "print( x* y )"
      ],
      "metadata": {
        "colab": {
          "base_uri": "https://localhost:8080/",
          "height": 228
        },
        "id": "mP-BewPVxpV5",
        "outputId": "d0546e3d-15c6-4b16-a365-886834ba071e"
      },
      "execution_count": null,
      "outputs": [
        {
          "name": "stdout",
          "output_type": "stream",
          "text": [
            "10\n",
            "0\n"
          ]
        },
        {
          "output_type": "error",
          "ename": "ZeroDivisionError",
          "evalue": "division by zero",
          "traceback": [
            "\u001b[0;31m---------------------------------------------------------------------------\u001b[0m",
            "\u001b[0;31mZeroDivisionError\u001b[0m                         Traceback (most recent call last)",
            "\u001b[0;32m<ipython-input-4-ba8dcb575176>\u001b[0m in \u001b[0;36m<cell line: 4>\u001b[0;34m()\u001b[0m\n\u001b[1;32m      2\u001b[0m \u001b[0mx\u001b[0m \u001b[0;34m=\u001b[0m \u001b[0mint\u001b[0m\u001b[0;34m(\u001b[0m\u001b[0minput\u001b[0m\u001b[0;34m(\u001b[0m\u001b[0;34m)\u001b[0m\u001b[0;34m)\u001b[0m\u001b[0;34m\u001b[0m\u001b[0;34m\u001b[0m\u001b[0m\n\u001b[1;32m      3\u001b[0m \u001b[0my\u001b[0m \u001b[0;34m=\u001b[0m \u001b[0mint\u001b[0m\u001b[0;34m(\u001b[0m\u001b[0minput\u001b[0m\u001b[0;34m(\u001b[0m\u001b[0;34m)\u001b[0m\u001b[0;34m)\u001b[0m\u001b[0;34m\u001b[0m\u001b[0;34m\u001b[0m\u001b[0m\n\u001b[0;32m----> 4\u001b[0;31m \u001b[0mprint\u001b[0m\u001b[0;34m(\u001b[0m\u001b[0mx\u001b[0m\u001b[0;34m/\u001b[0m\u001b[0my\u001b[0m\u001b[0;34m)\u001b[0m \u001b[0;31m# Divison by 0, not possible\u001b[0m\u001b[0;34m\u001b[0m\u001b[0;34m\u001b[0m\u001b[0m\n\u001b[0m\u001b[1;32m      5\u001b[0m \u001b[0mprint\u001b[0m\u001b[0;34m(\u001b[0m \u001b[0mx\u001b[0m\u001b[0;34m*\u001b[0m \u001b[0my\u001b[0m \u001b[0;34m)\u001b[0m\u001b[0;34m\u001b[0m\u001b[0;34m\u001b[0m\u001b[0m\n",
            "\u001b[0;31mZeroDivisionError\u001b[0m: division by zero"
          ]
        }
      ]
    },
    {
      "cell_type": "code",
      "source": [
        "# try, except & finally\n",
        "try:\n",
        "  x = int(input())\n",
        "  y = int(input())\n",
        "  print(x/y) # Divison by 0, not possible\n",
        "  print( x* y )\n",
        "except:\n",
        "  print('Enter the value where y !=0 & x,y both must be numeric ')"
      ],
      "metadata": {
        "colab": {
          "base_uri": "https://localhost:8080/"
        },
        "id": "2lQdIXKfTSMw",
        "outputId": "f1c43211-2445-4929-93a8-9c9c01169a8c"
      },
      "execution_count": null,
      "outputs": [
        {
          "output_type": "stream",
          "name": "stdout",
          "text": [
            "4\n",
            "2\n",
            "2.0\n",
            "8\n"
          ]
        }
      ]
    },
    {
      "cell_type": "code",
      "source": [
        "del x,y"
      ],
      "metadata": {
        "id": "l0TqRHLKVidk"
      },
      "execution_count": null,
      "outputs": []
    },
    {
      "cell_type": "code",
      "source": [
        "try:\n",
        "  x = int(input())\n",
        "  y = int(input())\n",
        "  print(x/y) # Divison by 0, not possible\n",
        "except:\n",
        "  print('Enter the value where y !=0 & x,y both must be numeric ')\n",
        "  print( x* y )"
      ],
      "metadata": {
        "colab": {
          "base_uri": "https://localhost:8080/",
          "height": 384
        },
        "id": "VCG3G4PIUpkC",
        "outputId": "0d679a64-c47a-4031-8c64-c23b91fc6b8a"
      },
      "execution_count": null,
      "outputs": [
        {
          "output_type": "stream",
          "name": "stdout",
          "text": [
            "a\n",
            "Enter the value where y !=0 & x,y both must be numeric \n"
          ]
        },
        {
          "output_type": "error",
          "ename": "NameError",
          "evalue": "name 'x' is not defined",
          "traceback": [
            "\u001b[0;31m---------------------------------------------------------------------------\u001b[0m",
            "\u001b[0;31mValueError\u001b[0m                                Traceback (most recent call last)",
            "\u001b[0;32m<ipython-input-13-c2ef06fb60f7>\u001b[0m in \u001b[0;36m<cell line: 1>\u001b[0;34m()\u001b[0m\n\u001b[1;32m      1\u001b[0m \u001b[0;32mtry\u001b[0m\u001b[0;34m:\u001b[0m\u001b[0;34m\u001b[0m\u001b[0;34m\u001b[0m\u001b[0m\n\u001b[0;32m----> 2\u001b[0;31m   \u001b[0mx\u001b[0m \u001b[0;34m=\u001b[0m \u001b[0mint\u001b[0m\u001b[0;34m(\u001b[0m\u001b[0minput\u001b[0m\u001b[0;34m(\u001b[0m\u001b[0;34m)\u001b[0m\u001b[0;34m)\u001b[0m\u001b[0;34m\u001b[0m\u001b[0;34m\u001b[0m\u001b[0m\n\u001b[0m\u001b[1;32m      3\u001b[0m   \u001b[0my\u001b[0m \u001b[0;34m=\u001b[0m \u001b[0mint\u001b[0m\u001b[0;34m(\u001b[0m\u001b[0minput\u001b[0m\u001b[0;34m(\u001b[0m\u001b[0;34m)\u001b[0m\u001b[0;34m)\u001b[0m\u001b[0;34m\u001b[0m\u001b[0;34m\u001b[0m\u001b[0m\n",
            "\u001b[0;31mValueError\u001b[0m: invalid literal for int() with base 10: 'a'",
            "\nDuring handling of the above exception, another exception occurred:\n",
            "\u001b[0;31mNameError\u001b[0m                                 Traceback (most recent call last)",
            "\u001b[0;32m<ipython-input-13-c2ef06fb60f7>\u001b[0m in \u001b[0;36m<cell line: 1>\u001b[0;34m()\u001b[0m\n\u001b[1;32m      5\u001b[0m \u001b[0;32mexcept\u001b[0m\u001b[0;34m:\u001b[0m\u001b[0;34m\u001b[0m\u001b[0;34m\u001b[0m\u001b[0m\n\u001b[1;32m      6\u001b[0m   \u001b[0mprint\u001b[0m\u001b[0;34m(\u001b[0m\u001b[0;34m'Enter the value where y !=0 & x,y both must be numeric '\u001b[0m\u001b[0;34m)\u001b[0m\u001b[0;34m\u001b[0m\u001b[0;34m\u001b[0m\u001b[0m\n\u001b[0;32m----> 7\u001b[0;31m   \u001b[0mprint\u001b[0m\u001b[0;34m(\u001b[0m \u001b[0mx\u001b[0m\u001b[0;34m*\u001b[0m \u001b[0my\u001b[0m \u001b[0;34m)\u001b[0m\u001b[0;34m\u001b[0m\u001b[0;34m\u001b[0m\u001b[0m\n\u001b[0m",
            "\u001b[0;31mNameError\u001b[0m: name 'x' is not defined"
          ]
        }
      ]
    },
    {
      "cell_type": "code",
      "source": [
        "x = int(input())\n",
        "y = int(input())\n",
        "if y !=0:\n",
        "  print(x/y)\n",
        "  print(x*y)\n",
        "else:\n",
        "  print('Y should be non Zero')"
      ],
      "metadata": {
        "colab": {
          "base_uri": "https://localhost:8080/"
        },
        "id": "Oz86MHaxVzwt",
        "outputId": "d7168d38-4605-4641-b147-eb05514eca2a"
      },
      "execution_count": null,
      "outputs": [
        {
          "output_type": "stream",
          "name": "stdout",
          "text": [
            "3\n",
            "0\n",
            "Y should be non Zero\n"
          ]
        }
      ]
    },
    {
      "cell_type": "code",
      "source": [
        "# Handling Edge Cases\n",
        "# User Friendly Error\n",
        "# Storing the errors to refer to it later. | Debugging the code\n",
        "# Continuity of the code"
      ],
      "metadata": {
        "colab": {
          "base_uri": "https://localhost:8080/"
        },
        "id": "cMjy0gLFf7N2",
        "outputId": "3b8ec7dc-5e53-4792-fb13-ceb51c6572b7"
      },
      "execution_count": null,
      "outputs": [
        {
          "output_type": "stream",
          "name": "stdout",
          "text": [
            "10\n",
            "0\n",
            "Value of y can't be 0\n",
            "0\n"
          ]
        }
      ]
    },
    {
      "cell_type": "code",
      "source": [],
      "metadata": {
        "colab": {
          "base_uri": "https://localhost:8080/"
        },
        "id": "aqkP2xa3yLnH",
        "outputId": "fddacb4d-d812-472c-8a84-822d1f0be9cb"
      },
      "execution_count": null,
      "outputs": [
        {
          "output_type": "stream",
          "name": "stdout",
          "text": [
            "10\n",
            "0\n",
            "Input Value is wrong, x&y can be integer and y cant be 0\n"
          ]
        }
      ]
    },
    {
      "cell_type": "code",
      "source": [
        "# try and except : If and else but for error\n",
        "# try : if there is no error: run the code\n",
        "# except: execute the code inside it if there is an error in try block."
      ],
      "metadata": {
        "id": "Yko2kNzfynw8"
      },
      "execution_count": null,
      "outputs": []
    },
    {
      "cell_type": "code",
      "execution_count": null,
      "metadata": {
        "id": "DVbM9jStPT9I"
      },
      "outputs": [],
      "source": [
        "try: # Keep running the code until there is an error\n",
        "\n",
        "\n",
        "except: # If there is an error then run the code inside the except\n",
        "\n"
      ]
    },
    {
      "cell_type": "code",
      "source": [
        "# try, except and finally\n",
        "def factorial(n):\n",
        "  \"\"\"\n",
        "  Expected Input : : Positive values >=0\n",
        "  Output : n!\n",
        "  \"\"\"\n",
        "  try:\n",
        "    _fact = 1\n",
        "    for i in range(1,n+1):\n",
        "      _fact*=i\n",
        "    return _fact\n",
        "  except:\n",
        "    print('Enter the value >=0')\n",
        "\n",
        "  finally:\n",
        "    print('Code is Executed')"
      ],
      "metadata": {
        "id": "JhuOF1WRPdRM"
      },
      "execution_count": null,
      "outputs": []
    },
    {
      "cell_type": "code",
      "source": [
        "factorial(n = 'a')"
      ],
      "metadata": {
        "id": "y6rE3zO8kilc",
        "colab": {
          "base_uri": "https://localhost:8080/"
        },
        "outputId": "e5010204-9038-481c-840e-d24ac609db78"
      },
      "execution_count": null,
      "outputs": [
        {
          "output_type": "stream",
          "name": "stdout",
          "text": [
            "Enter the value >=0\n",
            "Code is Executed\n"
          ]
        }
      ]
    },
    {
      "cell_type": "code",
      "source": [
        "factorial(n = 0)"
      ],
      "metadata": {
        "colab": {
          "base_uri": "https://localhost:8080/"
        },
        "id": "AkIeIESnYChK",
        "outputId": "453fafc5-6ec2-42ea-fe32-14cf42a58209"
      },
      "execution_count": null,
      "outputs": [
        {
          "output_type": "stream",
          "name": "stdout",
          "text": [
            "Code is Executed\n"
          ]
        },
        {
          "output_type": "execute_result",
          "data": {
            "text/plain": [
              "1"
            ]
          },
          "metadata": {},
          "execution_count": 29
        }
      ]
    },
    {
      "cell_type": "code",
      "source": [
        "# Finally : it will run no matter what\n",
        "# Case :\n",
        "# 1. try --> Is executed Successfully --> finally\n",
        "# 2. try : error --> except --> finally"
      ],
      "metadata": {
        "id": "BhjQc86eYHRB"
      },
      "execution_count": null,
      "outputs": []
    },
    {
      "cell_type": "code",
      "source": [
        "# Python code : is giving error not logical"
      ],
      "metadata": {
        "id": "cee4X1pPk3vq"
      },
      "execution_count": null,
      "outputs": []
    },
    {
      "cell_type": "code",
      "source": [
        "list(range(1,0))"
      ],
      "metadata": {
        "colab": {
          "base_uri": "https://localhost:8080/"
        },
        "id": "vFTcgq-mXtk1",
        "outputId": "e07b22c9-4f1c-450a-ca5d-640073f16b8d"
      },
      "execution_count": null,
      "outputs": [
        {
          "output_type": "execute_result",
          "data": {
            "text/plain": [
              "[]"
            ]
          },
          "metadata": {},
          "execution_count": 23
        }
      ]
    },
    {
      "cell_type": "markdown",
      "source": [
        "#### Custom Raise error"
      ],
      "metadata": {
        "id": "1BV8GjWeJKFO"
      }
    },
    {
      "cell_type": "code",
      "source": [
        "# Capturing the error\n",
        "try:\n",
        "  age = int(input('Enter the age:'))\n",
        "  if age <0:\n",
        "    raise ValueError('Enter the right age')\n",
        "  elif age ==0:\n",
        "    raise ValueError('Enter the non Zero Age')\n",
        "  print(f'You will be {age+1} next year')\n",
        "except Exception as e:\n",
        "  print(f'Error is : {e}')"
      ],
      "metadata": {
        "colab": {
          "base_uri": "https://localhost:8080/"
        },
        "id": "UvDZNrExn0VR",
        "outputId": "d44e3d18-734b-4eeb-f4f9-89cc8d7037e1"
      },
      "execution_count": null,
      "outputs": [
        {
          "output_type": "stream",
          "name": "stdout",
          "text": [
            "Enter the age:0\n",
            "Error is : Enter the non Zero Age\n"
          ]
        }
      ]
    },
    {
      "cell_type": "code",
      "source": [
        "# Write a code for Factorial : Implement try, except and finally\n",
        "def factorial(n):\n",
        "  \"\"\"\n",
        "  Expected Input : : Positive values >=0\n",
        "  Output : n!\n",
        "  \"\"\"\n",
        "  try:\n",
        "    if n < 0:\n",
        "      raise ValueError('Enter the value >=0') # Forcibiliy, I have mentioned throw the error\n",
        "    _fact = 1\n",
        "    for i in range(1,n+1):\n",
        "      _fact*=i\n",
        "    return _fact\n",
        "  except:\n",
        "    print('Enter the value >=0')\n",
        "\n",
        "  finally:\n",
        "    print('Code is Executed')"
      ],
      "metadata": {
        "id": "hRM7wBWE2Ojj"
      },
      "execution_count": null,
      "outputs": []
    },
    {
      "cell_type": "code",
      "source": [
        "factorial(n='a')"
      ],
      "metadata": {
        "colab": {
          "base_uri": "https://localhost:8080/"
        },
        "id": "ck7bIxPDZVEB",
        "outputId": "49a6ef76-67ba-43e3-c7c8-6873bb304c30"
      },
      "execution_count": null,
      "outputs": [
        {
          "output_type": "stream",
          "name": "stdout",
          "text": [
            "Enter the value >=0\n",
            "Code is Executed\n"
          ]
        }
      ]
    },
    {
      "cell_type": "code",
      "source": [
        "factorial(n=0)"
      ],
      "metadata": {
        "colab": {
          "base_uri": "https://localhost:8080/"
        },
        "id": "jw_mdbR8Y3lT",
        "outputId": "940fe08e-d7ad-447c-bf89-f73b56a13f9f"
      },
      "execution_count": null,
      "outputs": [
        {
          "output_type": "stream",
          "name": "stdout",
          "text": [
            "Code is Executed\n"
          ]
        },
        {
          "output_type": "execute_result",
          "data": {
            "text/plain": [
              "1"
            ]
          },
          "metadata": {},
          "execution_count": 31
        }
      ]
    },
    {
      "cell_type": "code",
      "source": [
        "factorial(n= -1)"
      ],
      "metadata": {
        "colab": {
          "base_uri": "https://localhost:8080/"
        },
        "id": "OGLmeUU_Y6rQ",
        "outputId": "109fe362-9985-4652-a1f0-95116edadd3d"
      },
      "execution_count": null,
      "outputs": [
        {
          "output_type": "stream",
          "name": "stdout",
          "text": [
            "Enter the value >=0\n",
            "Code is Executed\n"
          ]
        }
      ]
    },
    {
      "cell_type": "code",
      "source": [
        "# Python is not giving error : rather we forced for <0 case for the error"
      ],
      "metadata": {
        "id": "Vtzx8h7tZAFZ"
      },
      "execution_count": null,
      "outputs": []
    },
    {
      "cell_type": "code",
      "source": [
        "# raise error is executed, code will not run any further in try block.--> except block"
      ],
      "metadata": {
        "id": "LkC8SalGZ7PU"
      },
      "execution_count": null,
      "outputs": []
    },
    {
      "cell_type": "code",
      "source": [
        "# Real Scenario: finally\n",
        "try:\n",
        "  user_location = logic_of_getting(lat, long) # based on mobile/sim location\n",
        "  if lat <0 or long <0:\n",
        "    raise ValueError('Wrong Lat, long') # this is executed : it goes to except\n",
        "except:\n",
        "  user_location = home_address(lat,long) # default lat, long\n",
        "\n",
        "finally:\n",
        "  # Whole Recommendation system logic\n",
        "  recommendation = within1kmofinterest(lat,long)"
      ],
      "metadata": {
        "id": "eCPtvVdHaFmv"
      },
      "execution_count": null,
      "outputs": []
    },
    {
      "cell_type": "code",
      "source": [],
      "metadata": {
        "id": "X65YJCa6aFkT"
      },
      "execution_count": null,
      "outputs": []
    },
    {
      "cell_type": "code",
      "source": [
        "# using Except , give message specific to error\n",
        "try:\n",
        "  x = int(input())\n",
        "  y = int(input())\n",
        "  print(x/y)\n",
        "except ZeroDivisionError: # Error Specific Exception handling\n",
        "  print('Y cannot be zero')\n",
        "except TypeError: # Error Specific Exception handling\n",
        "  print('X & Y must be integer')\n",
        "except: # Generic Exception handling\n",
        "  print('X& Y must be integer and Y must not be zero')\n",
        "finally:\n",
        "  print('code is executed')"
      ],
      "metadata": {
        "id": "jcVomVjmPlWV",
        "colab": {
          "base_uri": "https://localhost:8080/"
        },
        "outputId": "2222684d-543a-44b4-d006-84e026982e37"
      },
      "execution_count": null,
      "outputs": [
        {
          "output_type": "stream",
          "name": "stdout",
          "text": [
            "9\n",
            "0\n",
            "Y cannot be zero\n",
            "code is executed\n"
          ]
        }
      ]
    },
    {
      "cell_type": "code",
      "source": [
        "del x,y"
      ],
      "metadata": {
        "id": "NwR0pH3meyAd"
      },
      "execution_count": null,
      "outputs": []
    },
    {
      "cell_type": "code",
      "source": [
        "try:\n",
        "  x = int(input())\n",
        "  y = int(input())\n",
        "  print(x/y) # Divison by 0, not possible\n",
        "except ValueError:\n",
        "  print('Enter the value which is numeric')\n",
        "  # print( x* y )\n",
        "except:\n",
        "  print('Enter the value where y !=0 & x,y both must be numeric ')\n",
        "  print( x* y )"
      ],
      "metadata": {
        "id": "f0ozmUCNrsgr",
        "colab": {
          "base_uri": "https://localhost:8080/"
        },
        "outputId": "118062ba-993c-45f1-c22d-a095b83dde80"
      },
      "execution_count": null,
      "outputs": [
        {
          "output_type": "stream",
          "name": "stdout",
          "text": [
            "a\n",
            "Enter the value which is numeric\n"
          ]
        }
      ]
    },
    {
      "cell_type": "code",
      "source": [
        "try:\n",
        "  x = int(input())\n",
        "  y = int(input())\n",
        "  print(x/y) # Divison by 0, not possible\n",
        "except ValueError:\n",
        "  print('Enter the value which is numeric')\n",
        "  # print( x* y )\n",
        "# except:\n",
        "#   print('Enter the value where y !=0 & x,y both must be numeric ')\n",
        "#   print( x* y )"
      ],
      "metadata": {
        "colab": {
          "base_uri": "https://localhost:8080/",
          "height": 245
        },
        "id": "s9YO8rstfmbk",
        "outputId": "a90ac373-653d-4a18-a508-30fee437bf3a"
      },
      "execution_count": null,
      "outputs": [
        {
          "name": "stdout",
          "output_type": "stream",
          "text": [
            "4\n",
            "0\n"
          ]
        },
        {
          "output_type": "error",
          "ename": "ZeroDivisionError",
          "evalue": "division by zero",
          "traceback": [
            "\u001b[0;31m---------------------------------------------------------------------------\u001b[0m",
            "\u001b[0;31mZeroDivisionError\u001b[0m                         Traceback (most recent call last)",
            "\u001b[0;32m<ipython-input-43-712becb2d38d>\u001b[0m in \u001b[0;36m<cell line: 1>\u001b[0;34m()\u001b[0m\n\u001b[1;32m      2\u001b[0m   \u001b[0mx\u001b[0m \u001b[0;34m=\u001b[0m \u001b[0mint\u001b[0m\u001b[0;34m(\u001b[0m\u001b[0minput\u001b[0m\u001b[0;34m(\u001b[0m\u001b[0;34m)\u001b[0m\u001b[0;34m)\u001b[0m\u001b[0;34m\u001b[0m\u001b[0;34m\u001b[0m\u001b[0m\n\u001b[1;32m      3\u001b[0m   \u001b[0my\u001b[0m \u001b[0;34m=\u001b[0m \u001b[0mint\u001b[0m\u001b[0;34m(\u001b[0m\u001b[0minput\u001b[0m\u001b[0;34m(\u001b[0m\u001b[0;34m)\u001b[0m\u001b[0;34m)\u001b[0m\u001b[0;34m\u001b[0m\u001b[0;34m\u001b[0m\u001b[0m\n\u001b[0;32m----> 4\u001b[0;31m   \u001b[0mprint\u001b[0m\u001b[0;34m(\u001b[0m\u001b[0mx\u001b[0m\u001b[0;34m/\u001b[0m\u001b[0my\u001b[0m\u001b[0;34m)\u001b[0m \u001b[0;31m# Divison by 0, not possible\u001b[0m\u001b[0;34m\u001b[0m\u001b[0;34m\u001b[0m\u001b[0m\n\u001b[0m\u001b[1;32m      5\u001b[0m \u001b[0;32mexcept\u001b[0m \u001b[0mValueError\u001b[0m\u001b[0;34m:\u001b[0m\u001b[0;34m\u001b[0m\u001b[0;34m\u001b[0m\u001b[0m\n\u001b[1;32m      6\u001b[0m   \u001b[0mprint\u001b[0m\u001b[0;34m(\u001b[0m\u001b[0;34m'Enter the value which is numeric'\u001b[0m\u001b[0;34m)\u001b[0m\u001b[0;34m\u001b[0m\u001b[0;34m\u001b[0m\u001b[0m\n",
            "\u001b[0;31mZeroDivisionError\u001b[0m: division by zero"
          ]
        }
      ]
    },
    {
      "cell_type": "code",
      "source": [
        "# Catching the error using except\n",
        "try:\n",
        "  x = int(input())\n",
        "  y = int(input())\n",
        "  print(x/y)\n",
        "except ZeroDivisionError: # Error Specific Exception handling\n",
        "  print('Y cannot be zero')\n",
        "except ValueError:\n",
        "  print('X & Y must be integer')\n",
        "except Exception as e: # Generic Exception handling\n",
        "  print('The error message is',e)\n",
        "finally:\n",
        "  print('code is executed')\n"
      ],
      "metadata": {
        "id": "PeNO8DJbPnwv",
        "colab": {
          "base_uri": "https://localhost:8080/"
        },
        "outputId": "3feb96ca-8184-42aa-be39-59acd6b99107"
      },
      "execution_count": null,
      "outputs": [
        {
          "output_type": "stream",
          "name": "stdout",
          "text": [
            "a\n",
            "X & Y must be integer\n",
            "code is executed\n"
          ]
        }
      ]
    },
    {
      "cell_type": "code",
      "source": [
        "# Error which are python specific :\n",
        "# What if : Logic specific : Exception handling"
      ],
      "metadata": {
        "id": "DMxlhrCH7y83"
      },
      "execution_count": null,
      "outputs": []
    },
    {
      "cell_type": "code",
      "source": [
        "try:\n",
        "  age = int(input())\n",
        "  if age < 0: # Logic for python is right but not specific to PS\n",
        "    raise ValueError(\"Please input age as > 0\")\n",
        "  print(f'You are {age} years old')\n",
        "except Exception as e: # Generic error but I am catching the error\n",
        "  print(f'The Error is: {e}')"
      ],
      "metadata": {
        "colab": {
          "base_uri": "https://localhost:8080/"
        },
        "id": "1bTInXIB8AIV",
        "outputId": "0b1398e4-6a71-4cc9-88b5-885352c1ca9c"
      },
      "execution_count": null,
      "outputs": [
        {
          "output_type": "stream",
          "name": "stdout",
          "text": [
            "-1\n",
            "The Error is: Please input age as > 0\n"
          ]
        }
      ]
    },
    {
      "cell_type": "code",
      "source": [
        "try:\n",
        "  _x = int(input())\n",
        "  if _x<0:\n",
        "    raise ValueError('Enter the value >0')\n",
        "  print(_x)\n",
        "except Exception as e: # Catching the error\n",
        "  print('The Error is:',e)"
      ],
      "metadata": {
        "colab": {
          "base_uri": "https://localhost:8080/"
        },
        "id": "1-XyN-BqgPJV",
        "outputId": "e938fd84-60fb-45ca-a15a-da87f1f309e2"
      },
      "execution_count": null,
      "outputs": [
        {
          "output_type": "stream",
          "name": "stdout",
          "text": [
            "a\n",
            "The Error is: invalid literal for int() with base 10: 'a'\n"
          ]
        }
      ]
    },
    {
      "cell_type": "code",
      "source": [
        "# int('a')"
      ],
      "metadata": {
        "colab": {
          "base_uri": "https://localhost:8080/",
          "height": 141
        },
        "id": "JItUNPVihJkg",
        "outputId": "a21d048f-a52f-4cc2-9288-1ab3e214009f"
      },
      "execution_count": null,
      "outputs": [
        {
          "output_type": "error",
          "ename": "ValueError",
          "evalue": "invalid literal for int() with base 10: 'a'",
          "traceback": [
            "\u001b[0;31m---------------------------------------------------------------------------\u001b[0m",
            "\u001b[0;31mValueError\u001b[0m                                Traceback (most recent call last)",
            "\u001b[0;32m<ipython-input-47-233884bacd4e>\u001b[0m in \u001b[0;36m<cell line: 1>\u001b[0;34m()\u001b[0m\n\u001b[0;32m----> 1\u001b[0;31m \u001b[0mint\u001b[0m\u001b[0;34m(\u001b[0m\u001b[0;34m'a'\u001b[0m\u001b[0;34m)\u001b[0m\u001b[0;34m\u001b[0m\u001b[0;34m\u001b[0m\u001b[0m\n\u001b[0m",
            "\u001b[0;31mValueError\u001b[0m: invalid literal for int() with base 10: 'a'"
          ]
        }
      ]
    },
    {
      "cell_type": "code",
      "source": [
        "try:\n",
        "  age = int(input())\n",
        "  if age < 0: # Code itself will not raise the issue but you are raising it.\n",
        "      raise ValueError(\"Please put age as >0\") # Error is raised --> except --> finally\n",
        "  print(f'You are {age} years old')\n",
        "except:\n",
        "  print('Instruction to user')\n",
        "finally:\n",
        "  print('Code has run')"
      ],
      "metadata": {
        "colab": {
          "base_uri": "https://localhost:8080/"
        },
        "id": "56FXkikz-pQY",
        "outputId": "d1f3f44a-e1dd-48ba-831a-4f6236459323"
      },
      "execution_count": null,
      "outputs": [
        {
          "output_type": "stream",
          "name": "stdout",
          "text": [
            "4\n",
            "You are 4 years old\n",
            "Code has run\n"
          ]
        }
      ]
    },
    {
      "cell_type": "code",
      "source": [
        "# Custom raise\n",
        "try:\n",
        "  age = int(input())\n",
        "  if age < 0: # Code itself will not raise the issue but you are raising it.\n",
        "      raise my_error(\"Please put age as >0\") # Error is raised --> except --> finally\n",
        "  print(f'You are {age} years old')\n",
        "except ValueError:\n",
        "  print(':Please put age > 0:')\n",
        "except Exception as e: # generalised but also I am catching the error message\n",
        "  print(f\"This is the exception {e}\")\n",
        "finally:\n",
        "  print('Code has been executed')"
      ],
      "metadata": {
        "id": "X7GYx3S2Prgk",
        "colab": {
          "base_uri": "https://localhost:8080/"
        },
        "outputId": "f32abb3d-9015-46ca-f8e8-34abe1224fbd"
      },
      "execution_count": null,
      "outputs": [
        {
          "output_type": "stream",
          "name": "stdout",
          "text": [
            "24\n",
            "You are 24 years old\n",
            "Code has been executed\n"
          ]
        }
      ]
    },
    {
      "cell_type": "code",
      "source": [
        "# ValueError, TypeError, ... :predefined Error Categories"
      ],
      "metadata": {
        "id": "iJo5zWgRhsX9"
      },
      "execution_count": null,
      "outputs": []
    },
    {
      "cell_type": "code",
      "source": [
        "# Business error\n",
        "# Custom Error : Category\n",
        "class my_error(Exception): # Inheriting the characteristics of Exception\n",
        "  pass\n",
        "# Profit_error : Child Class Inheriting all properties of Exception Class as Parent"
      ],
      "metadata": {
        "id": "wcby3B5Qr6Rz"
      },
      "execution_count": null,
      "outputs": []
    },
    {
      "cell_type": "code",
      "source": [
        "try:\n",
        "  age = int(input())\n",
        "  if age < 0: # Code itself will not raise the issue but you are raising it.\n",
        "      raise my_error(\"Please put age as >0\") # Error is raised --> except --> finally\n",
        "  print(f'You are {age} years old')\n",
        "except ValueError:\n",
        "  print(':Please put age > 0:')\n",
        "except Exception as e:\n",
        "  print(f\"This is the exception {e}\")\n",
        "finally:\n",
        "  print('Code has been executed')"
      ],
      "metadata": {
        "colab": {
          "base_uri": "https://localhost:8080/"
        },
        "id": "6Q7Bhx5uiOsH",
        "outputId": "c6051e7f-6c9d-4061-ec3d-20782a9f1824"
      },
      "execution_count": null,
      "outputs": [
        {
          "output_type": "stream",
          "name": "stdout",
          "text": [
            "-1\n",
            "This is the exception Please put age as >0\n",
            "Code has been executed\n"
          ]
        }
      ]
    },
    {
      "cell_type": "code",
      "source": [
        "# Error Categories : (IndetationError, SyntaxError)-- > Not handled by Try & Except\n",
        "# ValueError, TypeError,ZeroDivisionError --> try & except"
      ],
      "metadata": {
        "id": "2gJWLZPxsU91"
      },
      "execution_count": null,
      "outputs": []
    },
    {
      "cell_type": "code",
      "source": [
        "help(Exception)"
      ],
      "metadata": {
        "id": "ayl0dNp4jXjx"
      },
      "execution_count": null,
      "outputs": []
    },
    {
      "cell_type": "code",
      "source": [
        "help(BaseException)"
      ],
      "metadata": {
        "id": "4YBkYKfDjct5"
      },
      "execution_count": null,
      "outputs": []
    },
    {
      "cell_type": "code",
      "source": [
        "help(TypeError)"
      ],
      "metadata": {
        "id": "mS4CeLVXjji2"
      },
      "execution_count": null,
      "outputs": []
    },
    {
      "cell_type": "code",
      "source": [
        "# Handout:\n",
        "# M1 : Capstone Project : 30 Questions Solve and submit it for manual evaluation\n",
        "# 50 questions : Daily 1-2 questions for 2-3 months\n",
        "# Leetcode/hackerrank: Category Array and String : Easy questions\n",
        "# Module 1 : Assessments , quiz, coding questions...\n",
        "# M1-M6 : Within 1 year | Class: 6-7 months\n",
        "# Personality Development: Mindset, How to talk to anyone?\n",
        "# Python : eBook"
      ],
      "metadata": {
        "id": "9FLnvClzCD4t"
      },
      "execution_count": null,
      "outputs": []
    },
    {
      "cell_type": "code",
      "source": [
        "# getter & Setter : keywords | word\n",
        "# Data Encaptulated __private | I can't see/access the information and update the information"
      ],
      "metadata": {
        "id": "-kYY0OAZna5L"
      },
      "execution_count": null,
      "outputs": []
    },
    {
      "cell_type": "code",
      "source": [
        "class BankAccount:\n",
        "  bank_name = 'AB Bank of India'\n",
        "  def __init__(self,name,pancard,balance =0):\n",
        "    self.name = name # Public\n",
        "    self.pancard = pancard # Public\n",
        "    self.__balance = balance # Private\n",
        "\n",
        "  def deposit(self,amount): # Setter Methods\n",
        "    self.__balance += amount\n",
        "    print(f'You have successfully deposited the amount INR {amount} \\n. New Balance is INR {self.__balance}')\n",
        "\n",
        "  def withdraw(self, amount): # Setter Methods\n",
        "    if amount > self.__balance:\n",
        "      print('You have insufficient balance')\n",
        "    else:\n",
        "      self.__balance -= amount\n",
        "      print(f'You have successfully withdrawn the amount INR {amount},\\n New Balance INR {self.__balance}')\n",
        "\n",
        "  def check_balance(self): # getter method\n",
        "    print(f'You have INR {self.__balance} in account')"
      ],
      "metadata": {
        "id": "qbOEp_wjnwxh"
      },
      "execution_count": null,
      "outputs": []
    },
    {
      "cell_type": "code",
      "source": [
        "a = BankAccount(name = 'abc', pancard ='fefwe')"
      ],
      "metadata": {
        "id": "nShNqYU9n1Gs"
      },
      "execution_count": null,
      "outputs": []
    },
    {
      "cell_type": "code",
      "source": [
        "a.name"
      ],
      "metadata": {
        "colab": {
          "base_uri": "https://localhost:8080/",
          "height": 35
        },
        "id": "lQ9a5TrAoD14",
        "outputId": "b4748976-2aec-4321-ea29-a74d51dc57d7"
      },
      "execution_count": null,
      "outputs": [
        {
          "output_type": "execute_result",
          "data": {
            "text/plain": [
              "'abc'"
            ],
            "application/vnd.google.colaboratory.intrinsic+json": {
              "type": "string"
            }
          },
          "metadata": {},
          "execution_count": 60
        }
      ]
    },
    {
      "cell_type": "code",
      "source": [
        "a.__balance"
      ],
      "metadata": {
        "colab": {
          "base_uri": "https://localhost:8080/",
          "height": 141
        },
        "id": "w1PLOB5xoA7O",
        "outputId": "d01f14e2-f8c5-473e-9e85-67dc69459cee"
      },
      "execution_count": null,
      "outputs": [
        {
          "output_type": "error",
          "ename": "AttributeError",
          "evalue": "'BankAccount' object has no attribute '__balance'",
          "traceback": [
            "\u001b[0;31m---------------------------------------------------------------------------\u001b[0m",
            "\u001b[0;31mAttributeError\u001b[0m                            Traceback (most recent call last)",
            "\u001b[0;32m<ipython-input-61-72aecc5cf3db>\u001b[0m in \u001b[0;36m<cell line: 1>\u001b[0;34m()\u001b[0m\n\u001b[0;32m----> 1\u001b[0;31m \u001b[0ma\u001b[0m\u001b[0;34m.\u001b[0m\u001b[0m__balance\u001b[0m\u001b[0;34m\u001b[0m\u001b[0;34m\u001b[0m\u001b[0m\n\u001b[0m",
            "\u001b[0;31mAttributeError\u001b[0m: 'BankAccount' object has no attribute '__balance'"
          ]
        }
      ]
    },
    {
      "cell_type": "code",
      "source": [
        "# Method : get the data"
      ],
      "metadata": {
        "id": "GxqUP-KnoOdd"
      },
      "execution_count": null,
      "outputs": []
    },
    {
      "cell_type": "code",
      "source": [
        "a.check_balance()"
      ],
      "metadata": {
        "colab": {
          "base_uri": "https://localhost:8080/"
        },
        "id": "1K4tqD6EoX5F",
        "outputId": "aae19137-4116-43fd-c5e9-3d3d484067f5"
      },
      "execution_count": null,
      "outputs": [
        {
          "output_type": "stream",
          "name": "stdout",
          "text": [
            "You have INR 0 in account\n"
          ]
        }
      ]
    },
    {
      "cell_type": "code",
      "source": [
        "# Update the data\n",
        "# method which can set/update the data --> Setter"
      ],
      "metadata": {
        "id": "rlkw_1hQoYhl"
      },
      "execution_count": null,
      "outputs": []
    },
    {
      "cell_type": "code",
      "source": [
        "# private data : You cannot access directly rather you have access through Methods inside Class"
      ],
      "metadata": {
        "id": "KdBGkXLqouxX"
      },
      "execution_count": null,
      "outputs": []
    }
  ]
}