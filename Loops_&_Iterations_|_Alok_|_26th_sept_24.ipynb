{
  "nbformat": 4,
  "nbformat_minor": 0,
  "metadata": {
    "colab": {
      "provenance": [],
      "include_colab_link": true
    },
    "kernelspec": {
      "name": "python3",
      "display_name": "Python 3"
    },
    "language_info": {
      "name": "python"
    }
  },
  "cells": [
    {
      "cell_type": "markdown",
      "metadata": {
        "id": "view-in-github",
        "colab_type": "text"
      },
      "source": [
        "<a href=\"https://colab.research.google.com/github/rm17octo22/practice12/blob/main/Loops_%26_Iterations_%7C_Alok_%7C_26th_sept_24.ipynb\" target=\"_parent\"><img src=\"https://colab.research.google.com/assets/colab-badge.svg\" alt=\"Open In Colab\"/></a>"
      ]
    },
    {
      "cell_type": "markdown",
      "source": [
        "#### Introduction to Looping Concepts"
      ],
      "metadata": {
        "id": "LR4Yg3iWJWRT"
      }
    },
    {
      "cell_type": "code",
      "execution_count": null,
      "metadata": {
        "id": "79cSJhquHmQ6"
      },
      "outputs": [],
      "source": [
        "# For Loops are used to iterate over a sequence (such as a list, tuple, dictionary, string, or range).\n",
        "# They allow you to execute a block of code repeatedly for each element in the sequence.\n",
        "\n",
        "# Key Concepts:\n",
        "\n",
        "# Iteration: The process of looping through elements of a sequence.\n",
        "# Loop Variable: The variable that takes the value of each element in the sequence during each iteration.\n",
        "# Accumulation: Using a secondary variable to collect or accumulate results across iterations.\n",
        "\n"
      ]
    },
    {
      "cell_type": "code",
      "source": [
        "# Basic Structure of For loop\n",
        "for item in sequence:\n",
        "\n",
        "    # Code block to execute"
      ],
      "metadata": {
        "id": "A8UtJTsdJLc4"
      },
      "execution_count": null,
      "outputs": []
    },
    {
      "cell_type": "markdown",
      "source": [
        "##### Example 1: Basic For Loop"
      ],
      "metadata": {
        "id": "r2PogxLXJidh"
      }
    },
    {
      "cell_type": "code",
      "source": [
        "\n",
        "# List of numbers\n",
        "numbers = [10, 20, 30, 40, 50] # Collection of elements\n",
        "\n",
        "# Loop through each number and print it\n",
        "for i in numbers :\n",
        "  print(i)\n"
      ],
      "metadata": {
        "id": "Y4RtUVk0JRkg",
        "colab": {
          "base_uri": "https://localhost:8080/"
        },
        "outputId": "5d570eb0-a110-460c-a8d0-61b8cc7d1b28"
      },
      "execution_count": null,
      "outputs": [
        {
          "output_type": "stream",
          "name": "stdout",
          "text": [
            "10\n",
            "20\n",
            "30\n",
            "40\n",
            "50\n"
          ]
        }
      ]
    },
    {
      "cell_type": "code",
      "source": [
        "# 5 Iterations --> 5 elements in the numbers (list)\n",
        "# Interation 1 : i = 10 print(i) --> 10\n",
        "# Interation 2 : i = 20 print(i) --> 20\n",
        "# Interation 3 : i = 30 print(i) --> 30\n",
        "#  Interation 4 : i = 40 print(i) --> 40\n",
        "# Interation 5 : i = 50 print(i) --> 50"
      ],
      "metadata": {
        "id": "TT4EI4GHA1Gm"
      },
      "execution_count": null,
      "outputs": []
    },
    {
      "cell_type": "code",
      "source": [
        "# Python with For\n",
        "# Assign the value in i sequentially : Loop from numbers list.\n",
        "\n"
      ],
      "metadata": {
        "id": "VwqmNlrt8NFD"
      },
      "execution_count": null,
      "outputs": []
    },
    {
      "cell_type": "code",
      "source": [
        "# List of numbers\n",
        "numbers = [98, 34, 56, 40, 50, 100]\n",
        "\n",
        "# Loop through each number and print it\n",
        "for i in numbers:\n",
        "  print(i)\n",
        "\n",
        "# How many iterations will run? 6"
      ],
      "metadata": {
        "colab": {
          "base_uri": "https://localhost:8080/"
        },
        "id": "_oyhq0K7865G",
        "outputId": "21a159c4-bcc2-4fde-f9c5-dfd84257ce67"
      },
      "execution_count": null,
      "outputs": [
        {
          "output_type": "stream",
          "name": "stdout",
          "text": [
            "98\n",
            "34\n",
            "56\n",
            "40\n",
            "50\n",
            "100\n"
          ]
        }
      ]
    },
    {
      "cell_type": "code",
      "source": [],
      "metadata": {
        "id": "Kh5Fu2ns8-yz"
      },
      "execution_count": null,
      "outputs": []
    },
    {
      "cell_type": "markdown",
      "source": [
        "##### Example 2: Using a Secondary Variable to Accumulate Results\n"
      ],
      "metadata": {
        "id": "TJcOe5qCJo6S"
      }
    },
    {
      "cell_type": "code",
      "source": [
        "# List of numbers\n",
        "numbers = [10, 20, 30, 40, 50]\n",
        "# Sum of total elements\n",
        "_total = 0 # Secondary Variable\n",
        "\n",
        "for i in numbers:\n",
        "  _total = _total + i\n",
        "\n",
        "print(_total)\n"
      ],
      "metadata": {
        "id": "0eA5ctf9JfPQ",
        "colab": {
          "base_uri": "https://localhost:8080/"
        },
        "outputId": "4ba60814-a449-4de6-aa15-48f8f78de9f4"
      },
      "execution_count": null,
      "outputs": [
        {
          "output_type": "stream",
          "name": "stdout",
          "text": [
            "150\n"
          ]
        }
      ]
    },
    {
      "cell_type": "code",
      "source": [
        "# Iterations - 5\n",
        "\n",
        "# Iteration 1 :\n",
        "# i = 10\n",
        "# _total = _total + i | _total = 0 + 10 = 10\n",
        "# Iteration 2 :\n",
        "# i = 20\n",
        "# _total = _total + i | _total = 10 + 20 = 30\n",
        "\n",
        "# Iteration 3 :\n",
        "# i = 30\n",
        "# _total = _total + i | _total = 30 + 30 = 60\n",
        "\n",
        "# Iteration 4 :\n",
        "# i = 40\n",
        "# _total = _total + i | _total = 60 + 40 = 100\n",
        "\n",
        "# Iteration 5 :\n",
        "# i = 50\n",
        "# _total = _total + i | _total = 100 + 50 = 150"
      ],
      "metadata": {
        "id": "HMgwIvvTCYCQ"
      },
      "execution_count": null,
      "outputs": []
    },
    {
      "cell_type": "code",
      "source": [
        "sum(numbers)"
      ],
      "metadata": {
        "colab": {
          "base_uri": "https://localhost:8080/"
        },
        "id": "lyJSPmrmAYGM",
        "outputId": "9dabd3f8-bab2-4bae-b76d-7134d15ee703"
      },
      "execution_count": null,
      "outputs": [
        {
          "output_type": "execute_result",
          "data": {
            "text/plain": [
              "15"
            ]
          },
          "metadata": {},
          "execution_count": 4
        }
      ]
    },
    {
      "cell_type": "code",
      "source": [],
      "metadata": {
        "id": "arSlWDb1-WWt"
      },
      "execution_count": null,
      "outputs": []
    },
    {
      "cell_type": "code",
      "source": [
        "# Counting Occurrences of an Element - 'apple'\n",
        "# List of elements\n",
        "elements = ['apple', 'banana', 'apple', 'orange', 'banana', 'apple']\n",
        "_count = 0\n",
        "for i in elements:\n",
        "  if i == 'apple':\n",
        "    _count = _count + 1\n",
        "\n",
        "print(_count)"
      ],
      "metadata": {
        "id": "vh-hLYe2J1QF",
        "colab": {
          "base_uri": "https://localhost:8080/"
        },
        "outputId": "158c6483-40eb-49d6-80ef-d11594cf0499"
      },
      "execution_count": null,
      "outputs": [
        {
          "output_type": "stream",
          "name": "stdout",
          "text": [
            "3\n"
          ]
        }
      ]
    },
    {
      "cell_type": "code",
      "source": [
        "del _count"
      ],
      "metadata": {
        "id": "8vIgKc86ELlT"
      },
      "execution_count": null,
      "outputs": []
    },
    {
      "cell_type": "code",
      "source": [
        "# Iterations - 6\n",
        "\n",
        "# Iteration 1 :\n",
        "# i = 'apple'\n",
        "# if i == 'apple': # True\n",
        "#     _count = _count + 1 # _count = 0 + 1 = 1\n",
        "\n",
        "# Iteration 2 :\n",
        "# i = 'banana'\n",
        "# if i == 'apple': # False\n",
        "#     _count = _count + 1 # This line will not get executed\n",
        "\n",
        "# Iteration 3 :\n",
        "# i = 'apple'\n",
        "# if i == 'apple': # True\n",
        "#     _count = _count + 1 # _count = 1 + 1 = 2\n",
        "\n",
        "# Iteration 4 :\n",
        "# i = 'orange'\n",
        "# if i == 'apple': # False\n",
        "#     _count = _count + 1 # This line will not get executed\n",
        "\n",
        "\n",
        "# Iteration 5 :\n",
        "# i = 'banana'\n",
        "# if i == 'apple': # False\n",
        "#     _count = _count + 1 # This line will not get executed\n",
        "\n",
        "\n",
        "# Iteration 6 :\n",
        "# i = 'apple'\n",
        "# if i == 'apple': # True\n",
        "#     _count = _count + 1 # _count = 2 + 1 = 3"
      ],
      "metadata": {
        "id": "KowOC5MRBAF0"
      },
      "execution_count": null,
      "outputs": []
    },
    {
      "cell_type": "markdown",
      "source": [
        "##### Example 3 : break & continue in loop"
      ],
      "metadata": {
        "id": "5-OVYGPOK4dM"
      }
    },
    {
      "cell_type": "code",
      "source": [
        "# The break statement is used to exit a loop early.\n",
        "numbers = [1, 2, 3, 4, 5]\n",
        "\n",
        "for i in numbers:\n",
        "  if i == 3:\n",
        "    break\n",
        "  print(i)\n"
      ],
      "metadata": {
        "id": "JqXKUOhQJ5vH",
        "colab": {
          "base_uri": "https://localhost:8080/"
        },
        "outputId": "95e5200b-62e4-44a6-c187-fca2ec69ca4a"
      },
      "execution_count": null,
      "outputs": [
        {
          "output_type": "stream",
          "name": "stdout",
          "text": [
            "1\n",
            "2\n"
          ]
        }
      ]
    },
    {
      "cell_type": "code",
      "source": [
        "# Iterations :5  | Ideally\n",
        "# I1 : i = 1\n",
        "# if i == 3: False\n",
        "  #   break # Not executed\n",
        "  # print(i) --> 1\n",
        "\n",
        "# I2 : i = 2\n",
        "# if i == 3: False\n",
        "  #   break # Not executed\n",
        "  # print(i) --> 2\n",
        "\n",
        "# I3 : i = 3\n",
        "# if i == 3: True\n",
        "  #   break # Loop ends\n",
        "  # print(i) --> Not executed\n",
        "\n",
        "# Stopped\n"
      ],
      "metadata": {
        "id": "esRqw-wIDnYX"
      },
      "execution_count": null,
      "outputs": []
    },
    {
      "cell_type": "code",
      "source": [
        "# Using continue in a For Loop\n",
        "# The continue statement skips the current iteration and moves to the next one.\n",
        "numbers = [1, 2, 3, 4, 5]\n",
        "for i in numbers:\n",
        "    if i == 3:\n",
        "        continue  # Skip the iteration when num equals 3\n",
        "    print(i)\n",
        "\n"
      ],
      "metadata": {
        "id": "2d7cRgo7LSUX",
        "colab": {
          "base_uri": "https://localhost:8080/"
        },
        "outputId": "4aeb4bc1-9f4d-4ad8-ec6b-b618dacd44e5"
      },
      "execution_count": null,
      "outputs": [
        {
          "output_type": "stream",
          "name": "stdout",
          "text": [
            "1\n",
            "2\n",
            "4\n",
            "5\n"
          ]
        }
      ]
    },
    {
      "cell_type": "code",
      "source": [
        "# iterations : 5 |Ideally\n",
        "# I1 : i = 1\n",
        "# if i == 3: False\n",
        "#         continue  # not getting executed\n",
        "#     print(i) # Executed --> 1\n",
        "\n",
        "# I2 : i = 2\n",
        "# if i == 3: False\n",
        "#         continue  # not getting executed\n",
        "#     print(i) # Executed --> 2\n",
        "\n",
        "# I3 : i = 3\n",
        "# if i == 3: True\n",
        "#         continue  # Will get executed.\n",
        "#     print(i) # Not get executed --> Jump to next iteration\n",
        "\n",
        "# # I4 : i = 4\n",
        "# if i == 3: False\n",
        "#         continue  # not getting executed\n",
        "#     print(i) # Executed --> 4\n",
        "\n",
        "# # I5 : i = 5\n",
        "# if i == 3: False\n",
        "#         continue  # not getting executed\n",
        "#     print(i) # Executed --> 5"
      ],
      "metadata": {
        "id": "fI_nVNqtEvQr"
      },
      "execution_count": null,
      "outputs": []
    },
    {
      "cell_type": "code",
      "source": [
        "# for i in 345:\n",
        "#   print(i)"
      ],
      "metadata": {
        "colab": {
          "base_uri": "https://localhost:8080/",
          "height": 159
        },
        "id": "g3enlvjdHuij",
        "outputId": "5bb845b7-1bc1-4121-e289-7744bba025b5"
      },
      "execution_count": null,
      "outputs": [
        {
          "output_type": "error",
          "ename": "TypeError",
          "evalue": "'int' object is not iterable",
          "traceback": [
            "\u001b[0;31m---------------------------------------------------------------------------\u001b[0m",
            "\u001b[0;31mTypeError\u001b[0m                                 Traceback (most recent call last)",
            "\u001b[0;32m<ipython-input-13-5af09a5c0185>\u001b[0m in \u001b[0;36m<cell line: 1>\u001b[0;34m()\u001b[0m\n\u001b[0;32m----> 1\u001b[0;31m \u001b[0;32mfor\u001b[0m \u001b[0mi\u001b[0m \u001b[0;32min\u001b[0m \u001b[0;36m345\u001b[0m\u001b[0;34m:\u001b[0m\u001b[0;34m\u001b[0m\u001b[0;34m\u001b[0m\u001b[0m\n\u001b[0m\u001b[1;32m      2\u001b[0m   \u001b[0mprint\u001b[0m\u001b[0;34m(\u001b[0m\u001b[0mi\u001b[0m\u001b[0;34m)\u001b[0m\u001b[0;34m\u001b[0m\u001b[0;34m\u001b[0m\u001b[0m\n",
            "\u001b[0;31mTypeError\u001b[0m: 'int' object is not iterable"
          ]
        }
      ]
    },
    {
      "cell_type": "markdown",
      "source": [
        "##### Example 4:\n",
        "Range: Generate sequences of numbers.\n",
        "\n",
        "Zip: Iterate over multiple sequences.\n",
        "\n",
        "Enumerate: Get index and value."
      ],
      "metadata": {
        "id": "0DEbZoJXRaH5"
      }
    },
    {
      "cell_type": "code",
      "source": [
        "list(range(2,10)) # will 10 be included"
      ],
      "metadata": {
        "colab": {
          "base_uri": "https://localhost:8080/"
        },
        "id": "jlYT22YeIVQK",
        "outputId": "e86d49fb-3de0-48ae-ec0b-fd5a77061144"
      },
      "execution_count": null,
      "outputs": [
        {
          "output_type": "execute_result",
          "data": {
            "text/plain": [
              "[2, 3, 4, 5, 6, 7, 8, 9]"
            ]
          },
          "metadata": {},
          "execution_count": 14
        }
      ]
    },
    {
      "cell_type": "code",
      "source": [
        "_list1 = [23,45,67]\n",
        "_list2 = [3,4,5]\n",
        "\n",
        "list(zip(_list1, _list2))"
      ],
      "metadata": {
        "colab": {
          "base_uri": "https://localhost:8080/"
        },
        "id": "gjDiEFXcIe9f",
        "outputId": "e2135701-adcc-4431-bfff-1f94789d655a"
      },
      "execution_count": null,
      "outputs": [
        {
          "output_type": "execute_result",
          "data": {
            "text/plain": [
              "[(23, 3), (45, 4), (67, 5)]"
            ]
          },
          "metadata": {},
          "execution_count": 15
        }
      ]
    },
    {
      "cell_type": "code",
      "source": [
        "list(enumerate(_list1))"
      ],
      "metadata": {
        "colab": {
          "base_uri": "https://localhost:8080/"
        },
        "id": "t8MAFz59Io1F",
        "outputId": "4b1ec2d4-4d46-4779-ff70-71486c5789c0"
      },
      "execution_count": null,
      "outputs": [
        {
          "output_type": "execute_result",
          "data": {
            "text/plain": [
              "[(0, 23), (1, 45), (2, 67)]"
            ]
          },
          "metadata": {},
          "execution_count": 16
        }
      ]
    },
    {
      "cell_type": "code",
      "source": [
        "# Using range() with For Loops\n",
        "# The range() function generates a sequence of numbers,\n",
        "# which is useful for iterating a specific number of times.\n",
        "for i in range(2,11):\n",
        "    print(i)\n",
        "\n"
      ],
      "metadata": {
        "id": "YJZM5eOMRo98",
        "colab": {
          "base_uri": "https://localhost:8080/"
        },
        "outputId": "23338b06-d0b6-4c42-f368-0e52a8b6de95"
      },
      "execution_count": null,
      "outputs": [
        {
          "output_type": "stream",
          "name": "stdout",
          "text": [
            "2\n",
            "3\n",
            "4\n",
            "5\n",
            "6\n",
            "7\n",
            "8\n",
            "9\n",
            "10\n"
          ]
        }
      ]
    },
    {
      "cell_type": "code",
      "source": [
        "for i in range(9,3, -1):\n",
        "  print(i)"
      ],
      "metadata": {
        "colab": {
          "base_uri": "https://localhost:8080/"
        },
        "id": "8nmwD32dI6Mj",
        "outputId": "89e74b3f-5205-4fc2-8620-6284f934d3a7"
      },
      "execution_count": null,
      "outputs": [
        {
          "output_type": "stream",
          "name": "stdout",
          "text": [
            "9\n",
            "8\n",
            "7\n",
            "6\n",
            "5\n",
            "4\n"
          ]
        }
      ]
    },
    {
      "cell_type": "code",
      "source": [
        "# Using zip() in a For Loop\n",
        "# The zip() function allows you to iterate over two or more sequences simultaneously.\n",
        "amount = [50, 100, 200]\n",
        "dis = [85, 90, 95]\n",
        "\n",
        "# list(zip(amount, dis)) # Index wise\n",
        "# [(50, 85), (100, 90), (200, 95)] --> 3 elements\n",
        "\n",
        "for i in zip(amount, dis):\n",
        "  print(i)\n",
        "\n",
        "#"
      ],
      "metadata": {
        "id": "R-bLBMkXR2VZ",
        "colab": {
          "base_uri": "https://localhost:8080/"
        },
        "outputId": "5b987d80-3699-43c3-a163-564d1bfa06c3"
      },
      "execution_count": null,
      "outputs": [
        {
          "output_type": "stream",
          "name": "stdout",
          "text": [
            "(50, 85)\n",
            "(100, 90)\n",
            "(200, 95)\n"
          ]
        }
      ]
    },
    {
      "cell_type": "code",
      "source": [
        "amount = [50, 100, 200]\n",
        "dis = [85, 90, 95]\n",
        "_int = [45,60]\n",
        "\n",
        "list(zip(amount,dis,_int))\n"
      ],
      "metadata": {
        "colab": {
          "base_uri": "https://localhost:8080/"
        },
        "id": "RQbOtK6TJpD7",
        "outputId": "eda7c87e-3ca7-4dd6-b9fb-3749af40f5b6"
      },
      "execution_count": null,
      "outputs": [
        {
          "output_type": "execute_result",
          "data": {
            "text/plain": [
              "[(50, 85, 45), (100, 90, 60)]"
            ]
          },
          "metadata": {},
          "execution_count": 21
        }
      ]
    },
    {
      "cell_type": "code",
      "source": [
        "# level 2 unpacking\n",
        "# Special case in for loop\n",
        "for i,j in zip(amount, dis):\n",
        "  print(i)\n",
        "  print(j)\n"
      ],
      "metadata": {
        "id": "B_yPNkVTJoT9",
        "colab": {
          "base_uri": "https://localhost:8080/"
        },
        "outputId": "fedf5ec6-7b82-40a2-d9de-979091ed8cac"
      },
      "execution_count": null,
      "outputs": [
        {
          "output_type": "stream",
          "name": "stdout",
          "text": [
            "50\n",
            "85\n",
            "100\n",
            "90\n",
            "200\n",
            "95\n"
          ]
        }
      ]
    },
    {
      "cell_type": "code",
      "source": [
        "for i,j,k in [['a','b','c'], [1,2,3]]:\n",
        "  print(i)\n",
        "  print(j)\n",
        "  print(k)"
      ],
      "metadata": {
        "colab": {
          "base_uri": "https://localhost:8080/"
        },
        "id": "W8pv_VX3J_Eb",
        "outputId": "da41ad12-8df1-449c-e51f-a83f8a41a342"
      },
      "execution_count": null,
      "outputs": [
        {
          "output_type": "stream",
          "name": "stdout",
          "text": [
            "a\n",
            "b\n",
            "c\n",
            "1\n",
            "2\n",
            "3\n"
          ]
        }
      ]
    },
    {
      "cell_type": "code",
      "source": [
        "for i,j,k in [['a','b','c'], [1,2]]:\n",
        "  print(i)\n",
        "  print(j)\n",
        "  print(k)"
      ],
      "metadata": {
        "colab": {
          "base_uri": "https://localhost:8080/",
          "height": 245
        },
        "id": "YcdYsTSYLQZH",
        "outputId": "7c77cb72-b24b-4af5-d15d-a567349729d2"
      },
      "execution_count": null,
      "outputs": [
        {
          "output_type": "stream",
          "name": "stdout",
          "text": [
            "a\n",
            "b\n",
            "c\n"
          ]
        },
        {
          "output_type": "error",
          "ename": "ValueError",
          "evalue": "not enough values to unpack (expected 3, got 2)",
          "traceback": [
            "\u001b[0;31m---------------------------------------------------------------------------\u001b[0m",
            "\u001b[0;31mValueError\u001b[0m                                Traceback (most recent call last)",
            "\u001b[0;32m<ipython-input-24-f6a2b49b23ce>\u001b[0m in \u001b[0;36m<cell line: 1>\u001b[0;34m()\u001b[0m\n\u001b[0;32m----> 1\u001b[0;31m \u001b[0;32mfor\u001b[0m \u001b[0mi\u001b[0m\u001b[0;34m,\u001b[0m\u001b[0mj\u001b[0m\u001b[0;34m,\u001b[0m\u001b[0mk\u001b[0m \u001b[0;32min\u001b[0m \u001b[0;34m[\u001b[0m\u001b[0;34m[\u001b[0m\u001b[0;34m'a'\u001b[0m\u001b[0;34m,\u001b[0m\u001b[0;34m'b'\u001b[0m\u001b[0;34m,\u001b[0m\u001b[0;34m'c'\u001b[0m\u001b[0;34m]\u001b[0m\u001b[0;34m,\u001b[0m \u001b[0;34m[\u001b[0m\u001b[0;36m1\u001b[0m\u001b[0;34m,\u001b[0m\u001b[0;36m2\u001b[0m\u001b[0;34m]\u001b[0m\u001b[0;34m]\u001b[0m\u001b[0;34m:\u001b[0m\u001b[0;34m\u001b[0m\u001b[0;34m\u001b[0m\u001b[0m\n\u001b[0m\u001b[1;32m      2\u001b[0m   \u001b[0mprint\u001b[0m\u001b[0;34m(\u001b[0m\u001b[0mi\u001b[0m\u001b[0;34m)\u001b[0m\u001b[0;34m\u001b[0m\u001b[0;34m\u001b[0m\u001b[0m\n\u001b[1;32m      3\u001b[0m   \u001b[0mprint\u001b[0m\u001b[0;34m(\u001b[0m\u001b[0mj\u001b[0m\u001b[0;34m)\u001b[0m\u001b[0;34m\u001b[0m\u001b[0;34m\u001b[0m\u001b[0m\n\u001b[1;32m      4\u001b[0m   \u001b[0mprint\u001b[0m\u001b[0;34m(\u001b[0m\u001b[0mk\u001b[0m\u001b[0;34m)\u001b[0m\u001b[0;34m\u001b[0m\u001b[0;34m\u001b[0m\u001b[0m\n",
            "\u001b[0;31mValueError\u001b[0m: not enough values to unpack (expected 3, got 2)"
          ]
        }
      ]
    },
    {
      "cell_type": "code",
      "source": [
        "for i,j in [['a','b','c'], [1,2,3]]:\n",
        "  print(i)\n",
        "  print(j)"
      ],
      "metadata": {
        "colab": {
          "base_uri": "https://localhost:8080/",
          "height": 176
        },
        "id": "nP-yEESbLTEr",
        "outputId": "79ed03e6-c604-45a9-e9be-8698cc2f621f"
      },
      "execution_count": null,
      "outputs": [
        {
          "output_type": "error",
          "ename": "ValueError",
          "evalue": "too many values to unpack (expected 2)",
          "traceback": [
            "\u001b[0;31m---------------------------------------------------------------------------\u001b[0m",
            "\u001b[0;31mValueError\u001b[0m                                Traceback (most recent call last)",
            "\u001b[0;32m<ipython-input-25-9068b26773f1>\u001b[0m in \u001b[0;36m<cell line: 1>\u001b[0;34m()\u001b[0m\n\u001b[0;32m----> 1\u001b[0;31m \u001b[0;32mfor\u001b[0m \u001b[0mi\u001b[0m\u001b[0;34m,\u001b[0m\u001b[0mj\u001b[0m \u001b[0;32min\u001b[0m \u001b[0;34m[\u001b[0m\u001b[0;34m[\u001b[0m\u001b[0;34m'a'\u001b[0m\u001b[0;34m,\u001b[0m\u001b[0;34m'b'\u001b[0m\u001b[0;34m,\u001b[0m\u001b[0;34m'c'\u001b[0m\u001b[0;34m]\u001b[0m\u001b[0;34m,\u001b[0m \u001b[0;34m[\u001b[0m\u001b[0;36m1\u001b[0m\u001b[0;34m,\u001b[0m\u001b[0;36m2\u001b[0m\u001b[0;34m,\u001b[0m\u001b[0;36m3\u001b[0m\u001b[0;34m]\u001b[0m\u001b[0;34m]\u001b[0m\u001b[0;34m:\u001b[0m\u001b[0;34m\u001b[0m\u001b[0;34m\u001b[0m\u001b[0m\n\u001b[0m\u001b[1;32m      2\u001b[0m   \u001b[0mprint\u001b[0m\u001b[0;34m(\u001b[0m\u001b[0mi\u001b[0m\u001b[0;34m)\u001b[0m\u001b[0;34m\u001b[0m\u001b[0;34m\u001b[0m\u001b[0m\n\u001b[1;32m      3\u001b[0m   \u001b[0mprint\u001b[0m\u001b[0;34m(\u001b[0m\u001b[0mj\u001b[0m\u001b[0;34m)\u001b[0m\u001b[0;34m\u001b[0m\u001b[0;34m\u001b[0m\u001b[0m\n",
            "\u001b[0;31mValueError\u001b[0m: too many values to unpack (expected 2)"
          ]
        }
      ]
    },
    {
      "cell_type": "code",
      "source": [
        "# Using enumerate() in a For Loop\n",
        "# The enumerate() function adds a counter to an iterable and\n",
        "# returns it in the form of an enumerate object,\n",
        "# which can be useful when you need both the index and the value.\n",
        "\n",
        "subject = ['Data Science', 'Maths', 'Python']\n",
        "for i, j in enumerate(subject):\n",
        "    print(f\"Index {i}: {j}\")\n",
        "\n",
        "# [(0, 'Data Science'), (1, 'Maths'), (2, 'Python')]\n",
        "# I1 : i = 0, j = \"Data Science\"\n",
        "# I2 : i = 1, j = \"Maths\"\n",
        "# I3 : i = 2, j = \"Python\""
      ],
      "metadata": {
        "id": "cT3GJGLFSQBJ",
        "colab": {
          "base_uri": "https://localhost:8080/"
        },
        "outputId": "8c21e5e5-f7d8-40c2-f0fd-cf37b697f3e1"
      },
      "execution_count": null,
      "outputs": [
        {
          "output_type": "stream",
          "name": "stdout",
          "text": [
            "Index 0: Data Science\n",
            "Index 1: Maths\n",
            "Index 2: Python\n"
          ]
        }
      ]
    },
    {
      "cell_type": "code",
      "source": [
        "list(enumerate(subject))"
      ],
      "metadata": {
        "colab": {
          "base_uri": "https://localhost:8080/"
        },
        "id": "viKIW4FfLlWC",
        "outputId": "7d7d0ead-5a6e-4f90-ac35-307c76771a9e"
      },
      "execution_count": null,
      "outputs": [
        {
          "output_type": "execute_result",
          "data": {
            "text/plain": [
              "[(0, 'Data Science'), (1, 'Maths'), (2, 'Python')]"
            ]
          },
          "metadata": {},
          "execution_count": 28
        }
      ]
    },
    {
      "cell_type": "code",
      "source": [
        "subject = ['Data Science', 'Maths', 'Python']\n",
        "for _index, _sub in enumerate(subject):\n",
        "    print(f\"Index {_index}: {_sub}\")"
      ],
      "metadata": {
        "colab": {
          "base_uri": "https://localhost:8080/"
        },
        "id": "6xrRUqCMNxSg",
        "outputId": "b2aa5229-d80d-4477-9994-0482a6002cc7"
      },
      "execution_count": null,
      "outputs": [
        {
          "output_type": "stream",
          "name": "stdout",
          "text": [
            "Index 0: Data Science\n",
            "Index 1: Maths\n",
            "Index 2: Python\n"
          ]
        }
      ]
    },
    {
      "cell_type": "markdown",
      "source": [
        "#### Practice Questions"
      ],
      "metadata": {
        "id": "zMoOgDQjRSoh"
      }
    },
    {
      "cell_type": "code",
      "source": [
        "# Question 1 :\n",
        "'''\n",
        "Write a Python program that prints the square of each number from 1 to 10.\n",
        "\n",
        "Hint: Use the range function to generate numbers from 1 to 10.\n",
        "'''\n",
        "\n",
        "a = int(input('Enter the lower limit:'))\n",
        "b = int(input('Enter the upper limit:'))\n",
        "\n",
        "for i in range(a, b+1):\n",
        "  print(f'Square of {i} : {i**2}')\n",
        "\n",
        "# Iterations\n",
        "# i = 1 , 1**2 = 1"
      ],
      "metadata": {
        "id": "uMLAKyrrRVSx",
        "colab": {
          "base_uri": "https://localhost:8080/"
        },
        "outputId": "dab6932a-f9df-4e8b-e401-4b851d5584c8"
      },
      "execution_count": null,
      "outputs": [
        {
          "output_type": "stream",
          "name": "stdout",
          "text": [
            "Enter the lower limit:679\n",
            "Enter the upper limit:694\n",
            "Square of 679 : 461041\n",
            "Square of 680 : 462400\n",
            "Square of 681 : 463761\n",
            "Square of 682 : 465124\n",
            "Square of 683 : 466489\n",
            "Square of 684 : 467856\n",
            "Square of 685 : 469225\n",
            "Square of 686 : 470596\n",
            "Square of 687 : 471969\n",
            "Square of 688 : 473344\n",
            "Square of 689 : 474721\n",
            "Square of 690 : 476100\n",
            "Square of 691 : 477481\n",
            "Square of 692 : 478864\n",
            "Square of 693 : 480249\n",
            "Square of 694 : 481636\n"
          ]
        }
      ]
    },
    {
      "cell_type": "code",
      "source": [
        "# Question 2 :\n",
        "'''\n",
        "You have a list of numbers:\n",
        "\n",
        "numbers = [23, 56, 32, 78, 45, 43, 10]\n",
        "Write a Python program to print each number in the list followed by whether it is \"Even\" or \"Odd\".\n",
        "'''\n",
        "# Expected Output:\n",
        "\n",
        "# 23 - Odd\n",
        "# 56 - Even\n",
        "# 32 - Even\n",
        "# 78 - Even\n",
        "# 45 - Odd\n",
        "# 43 - Odd\n",
        "# 10 - Even\n",
        "\n",
        "numbers = [23, 56, 32, 78, 45, 43, 10]\n",
        "\n",
        "for i in numbers:\n",
        "  if i % 2 ==0:\n",
        "    print(f'{i} - Even')\n",
        "  else:\n",
        "    print(f'{i} - Odd')\n",
        "\n",
        "\n"
      ],
      "metadata": {
        "id": "w26K4l0SU0r9",
        "colab": {
          "base_uri": "https://localhost:8080/"
        },
        "outputId": "6e86e1e5-d95a-4b71-e8cb-b7dcec43212f"
      },
      "execution_count": null,
      "outputs": [
        {
          "output_type": "stream",
          "name": "stdout",
          "text": [
            "23 - Odd\n",
            "56 - Even\n",
            "32 - Even\n",
            "78 - Even\n",
            "45 - Odd\n",
            "43 - Odd\n",
            "10 - Even\n"
          ]
        }
      ]
    },
    {
      "cell_type": "code",
      "source": [
        "# Question 3:\n",
        "'''\n",
        "# Find Factor:\n",
        "# Given a number (e.g., 12), find and print its factors using a for loop.\n",
        "# 12 : # Factors of 12\n",
        "# 1\n",
        "# 2\n",
        "# 3\n",
        "# 4\n",
        "# 6\n",
        "# 12\n",
        "'''\n",
        "\n",
        "_number = int(input('Enter the number:')) # 20\n",
        "\n",
        "for _var in range(1,_number + 1):# range(1,21) --> 1-20\n",
        "  if _number % _var ==0:\n",
        "    print(f'{_number} is divisible by {_var}')\n"
      ],
      "metadata": {
        "id": "n-QOyEi1VQM4",
        "colab": {
          "base_uri": "https://localhost:8080/"
        },
        "outputId": "03a9a7ee-dd01-40e3-ecf0-4ebf1c469aaf"
      },
      "execution_count": null,
      "outputs": [
        {
          "output_type": "stream",
          "name": "stdout",
          "text": [
            "Enter the number:20\n",
            "20 is divisible by 1\n",
            "20 is divisible by 2\n",
            "20 is divisible by 4\n",
            "20 is divisible by 5\n",
            "20 is divisible by 10\n",
            "20 is divisible by 20\n"
          ]
        }
      ]
    },
    {
      "cell_type": "code",
      "source": [
        "num = int(input('Enter the number')) # Change it to input\n",
        "\n",
        "for i in range(1,num+1):\n",
        "  # print(i)\n",
        "  if num % i ==0:\n",
        "    print(f'{num} is divisible by {i}')"
      ],
      "metadata": {
        "colab": {
          "base_uri": "https://localhost:8080/"
        },
        "id": "wLQFQ-NhMjLZ",
        "outputId": "e389f1a9-9e5b-4b81-90a9-d6fe1dc14e1a"
      },
      "execution_count": null,
      "outputs": [
        {
          "output_type": "stream",
          "name": "stdout",
          "text": [
            "Enter the number12\n",
            "12 is divisible by 1\n",
            "12 is divisible by 2\n",
            "12 is divisible by 3\n",
            "12 is divisible by 4\n",
            "12 is divisible by 6\n",
            "12 is divisible by 12\n"
          ]
        }
      ]
    },
    {
      "cell_type": "code",
      "source": [
        "# Fundamentals of Logic building in For loop-\n",
        "# Inputs -- values which you need an input\n",
        "\n",
        "# Logic --\n",
        "# Collection of elements on which for loop will run\n",
        "# Value of i : How values are changing?- Sequentially\n",
        "# What are you going to do with i?\n",
        "\n",
        "# Output"
      ],
      "metadata": {
        "id": "R7VOLKt6OOzX"
      },
      "execution_count": null,
      "outputs": []
    },
    {
      "cell_type": "code",
      "source": [
        "'''\n",
        "sir why it is false while doing if (0.2 + 0.1 == 0.3):\n",
        "print(\"True\")\n",
        "else:\n",
        "print(\"False\") ??\n",
        "\n",
        "'''\n",
        "# (0.2 + 0.1)"
      ],
      "metadata": {
        "colab": {
          "base_uri": "https://localhost:8080/",
          "height": 52
        },
        "id": "-fR-F3iHQaNm",
        "outputId": "ab954bb9-dc1e-4df9-e276-1042c5c217e9"
      },
      "execution_count": null,
      "outputs": [
        {
          "output_type": "execute_result",
          "data": {
            "text/plain": [
              "'\\nsir why it is false while doing if (0.2 + 0.3 == 0.3):\\nprint(\"True\")\\nelse:\\nprint(\"False\") ??\\n\\n'"
            ],
            "application/vnd.google.colaboratory.intrinsic+json": {
              "type": "string"
            }
          },
          "metadata": {},
          "execution_count": 1
        }
      ]
    },
    {
      "cell_type": "code",
      "source": [
        "_tup = (1,2,3,4)\n",
        "# Remove 4\n",
        "_list = list(_tup)\n",
        "_list.remove(4)\n",
        "_tup = tuple(_list)\n",
        "print(_tup)"
      ],
      "metadata": {
        "colab": {
          "base_uri": "https://localhost:8080/"
        },
        "id": "vwZyi41XQ7Dp",
        "outputId": "9a7d4213-18dd-4ebe-cc32-76bea3714cc2"
      },
      "execution_count": null,
      "outputs": [
        {
          "output_type": "stream",
          "name": "stdout",
          "text": [
            "(1, 2, 3)\n"
          ]
        }
      ]
    },
    {
      "cell_type": "code",
      "source": [
        "i = 3\n",
        "print(i)"
      ],
      "metadata": {
        "colab": {
          "base_uri": "https://localhost:8080/"
        },
        "id": "FCap5o8iHtUs",
        "outputId": "4d03375f-65bf-47b5-e0b4-1ff31f91b29d"
      },
      "execution_count": null,
      "outputs": [
        {
          "output_type": "stream",
          "name": "stdout",
          "text": [
            "3\n"
          ]
        }
      ]
    },
    {
      "cell_type": "code",
      "source": [
        "_list = [[3,4,5,6,7,8],['a','b','c','d','e','f']]\n",
        "for _rahul,_soham,_ravi,l,m,n in _list:\n",
        "  print(_rahul)\n",
        "  print(_soham)\n",
        "  print(_ravi)\n",
        "  print(l)\n",
        "  print(m)\n",
        "  print(n)"
      ],
      "metadata": {
        "colab": {
          "base_uri": "https://localhost:8080/"
        },
        "id": "GeHhfy5IHOYS",
        "outputId": "e7f5ddb2-6c3a-4a82-d7ff-b4263ef4ab2e"
      },
      "execution_count": null,
      "outputs": [
        {
          "output_type": "stream",
          "name": "stdout",
          "text": [
            "3\n",
            "4\n",
            "5\n",
            "6\n",
            "7\n",
            "8\n",
            "a\n",
            "b\n",
            "c\n",
            "d\n",
            "e\n",
            "f\n"
          ]
        }
      ]
    },
    {
      "cell_type": "code",
      "source": [
        "# x = 'a'\n",
        "# print(x)"
      ],
      "metadata": {
        "colab": {
          "base_uri": "https://localhost:8080/"
        },
        "id": "j8U09jR2Iezm",
        "outputId": "25c0ed68-4d1e-40ca-ca5c-7b911f114ff9"
      },
      "execution_count": null,
      "outputs": [
        {
          "output_type": "stream",
          "name": "stdout",
          "text": [
            "a\n"
          ]
        }
      ]
    },
    {
      "cell_type": "code",
      "source": [
        "subject_name = ['Data Science', 'Maths', 'Physics']\n",
        "print(list(enumerate(subject_name)))\n",
        "for _index,_value in enumerate(subject_name):\n",
        "  print(_index) # index\n",
        "  print(_value) # Value"
      ],
      "metadata": {
        "colab": {
          "base_uri": "https://localhost:8080/"
        },
        "id": "nl1mrC4wILxG",
        "outputId": "4dffb305-52fd-4247-ebd0-d6b67d25d4b2"
      },
      "execution_count": null,
      "outputs": [
        {
          "output_type": "stream",
          "name": "stdout",
          "text": [
            "[(0, 'Data Science'), (1, 'Maths'), (2, 'Physics')]\n",
            "0\n",
            "Data Science\n",
            "1\n",
            "Maths\n",
            "2\n",
            "Physics\n"
          ]
        }
      ]
    },
    {
      "cell_type": "code",
      "source": [
        "# Question 4 :\n",
        "'''\n",
        "Write a Python program that iterates through a list of numbers\n",
        "and accumulates the sum of all even numbers.\n",
        "\n",
        "'''\n",
        "numbers = eval(input('Enter the list:'))\n",
        "\n",
        "_total = 0 # _sum , _agg ,\n",
        "\n",
        "for i in numbers:\n",
        "  if i % 2 ==0:\n",
        "    _total += i # _total = _total + i\n",
        "\n",
        "print(f'Sum of even numbers in {numbers} : {_total}')\n",
        "\n",
        "\n",
        "\n"
      ],
      "metadata": {
        "id": "Ho9HBz_GVwu5",
        "colab": {
          "base_uri": "https://localhost:8080/"
        },
        "outputId": "8855155a-42d2-45e6-fda2-dae84878ab76"
      },
      "execution_count": null,
      "outputs": [
        {
          "output_type": "stream",
          "name": "stdout",
          "text": [
            "Enter the list:[4,6,7,8]\n",
            "Sum of even numbers in [4, 6, 7, 8] : 18\n"
          ]
        }
      ]
    },
    {
      "cell_type": "code",
      "source": [
        "# Question 5 :\n",
        "'''\n",
        "Calculate the sum of squares of numbers from 1 to n using a for loop.\n",
        "1^2 + 2^2 + 3^2 + 4^2 + 5^2..n^2\n",
        "\n",
        "'''\n",
        "\n",
        "n = int(input('Enter the value of n :'))\n",
        "\n",
        "_total = 0\n",
        "\n",
        "for i in range(1,n+1):\n",
        "  _total = _total + i **2\n",
        "\n",
        "print(_total)\n",
        "\n",
        "\n",
        "# n = 3\n",
        "# range(1,4) : 1,2,3\n",
        "# iteration 1 : i = 1\n",
        "# _total = _total + i **2 : _total = 0 + 1 = 1\n",
        "\n",
        "# Iteration 2 : i = 2\n",
        "\n",
        "# _total = _total + i **2 : _total = 1 + 4 = 5\n",
        "\n",
        "# Iteration 3 : i = 3\n",
        "\n",
        "# _total = _total + i **2 : _total = 5 + 9 = 14\n",
        "\n",
        "\n"
      ],
      "metadata": {
        "id": "KdOfoZEpV8jb",
        "colab": {
          "base_uri": "https://localhost:8080/"
        },
        "outputId": "106c0fa8-74ef-44e4-e579-0d5e7deab282"
      },
      "execution_count": null,
      "outputs": [
        {
          "output_type": "stream",
          "name": "stdout",
          "text": [
            "Enter the value of n :3\n",
            "14\n"
          ]
        }
      ]
    },
    {
      "cell_type": "code",
      "source": [
        "# What will be the collection of element which i/_var will take in each iteration\n",
        "# How do you utlise the value of i/_var in the logic of each iteration.\n"
      ],
      "metadata": {
        "id": "JIambJFJMHP1"
      },
      "execution_count": null,
      "outputs": []
    },
    {
      "cell_type": "code",
      "source": [
        "# Question 6 :\n",
        "'''\n",
        "Calculate the sum of numbers from 1 to n using a for loop.\n",
        "1/1^3 + 1/2^2 + 1/3^3 + 1/4^2 + 1/5^3....\n",
        "\n",
        "Odd - cube\n",
        "Even - Square\n",
        "'''\n",
        "\n",
        "n = int(input('Enter the value of n: '))\n",
        "\n",
        "_total = 0\n",
        "\n",
        "for i in range(1,n+1):\n",
        "  if i % 2==0:\n",
        "    _total = _total + 1/(i**2)\n",
        "  else:\n",
        "    _total = _total + 1/(i**3)\n",
        "\n",
        "print(_total)\n",
        "\n",
        "# n = 4\n",
        "# Collection of elements - range(1,5) -- 1,2,3,4\n",
        "\n",
        "# Iterations\n",
        "# i1 : i =1\n",
        "# if i % 2==0:\n",
        "#     _total = _total + 1/(i**2)\n",
        "#   else:\n",
        "#     _total = _total + 1/(i**3)\n",
        "# _total = _total + 1/(i**3) | _total = 0 + 1/(1**3) = 1\n",
        "\n",
        "# i2 : i =2\n",
        "# if i % 2==0: True\n",
        "#     _total = _total + 1/(i**2)\n",
        "#   else:\n",
        "#     _total = _total + 1/(i**3)\n",
        "#\n",
        "# _total = _total + 1/(i**2) | _total = 1 + 1/(2**2) = 1+ 0.25 = 1.25\n",
        "\n",
        "\n"
      ],
      "metadata": {
        "id": "prBJ6H8TWRLw",
        "colab": {
          "base_uri": "https://localhost:8080/"
        },
        "outputId": "91066124-4289-4394-f70f-2c79a32fae6d"
      },
      "execution_count": null,
      "outputs": [
        {
          "output_type": "stream",
          "name": "stdout",
          "text": [
            "Enter the value of n: 4\n",
            "1.349537037037037\n"
          ]
        }
      ]
    },
    {
      "cell_type": "code",
      "source": [
        "# Question 7 :\n",
        "'''\n",
        "Find the Factorial of any number\n",
        "0! = 1\n",
        "5! =  1 * 2 * 3 * 4 *5\n",
        "1! = 1\n",
        "2! = 1*2\n",
        "'''\n",
        "\n",
        "n = int(input('Enter the value of n for factorial :'))\n",
        "\n",
        "if n >=0:\n",
        "  _fact = 1\n",
        "\n",
        "  for i in range(1,n+1):\n",
        "    _fact = _fact * i\n",
        "\n",
        "  print(_fact)\n",
        "else:\n",
        "  print('Enter the valid number')\n"
      ],
      "metadata": {
        "id": "sq6GUi6LWxJT",
        "colab": {
          "base_uri": "https://localhost:8080/"
        },
        "outputId": "39aefc6b-60cb-4675-bb9b-a9750d50efbb"
      },
      "execution_count": null,
      "outputs": [
        {
          "output_type": "stream",
          "name": "stdout",
          "text": [
            "Enter the value of n for factorial :0\n",
            "1\n"
          ]
        }
      ]
    },
    {
      "cell_type": "code",
      "source": [
        "n = -2\n",
        "list(range(1,-1))"
      ],
      "metadata": {
        "colab": {
          "base_uri": "https://localhost:8080/"
        },
        "id": "S1FvbZpZQF5g",
        "outputId": "4bb9d180-cc2c-4c20-b7da-51d70aeeae70"
      },
      "execution_count": null,
      "outputs": [
        {
          "output_type": "execute_result",
          "data": {
            "text/plain": [
              "[]"
            ]
          },
          "metadata": {},
          "execution_count": 23
        }
      ]
    },
    {
      "cell_type": "code",
      "source": [
        "# Question 8 :\n",
        "'''\n",
        "For any num print the total sum of digits\n",
        "Input : 123  Output  1+2+3= 6\n",
        "'''\n",
        "\n",
        "n = int(input('Enter the number:'))\n",
        "n_str = str(n)\n",
        "_total = 0\n",
        "for i in n_str:\n",
        "  _total = _total + int(i)\n",
        "\n",
        "print(_total)\n"
      ],
      "metadata": {
        "id": "eNxa7WgOXPbH",
        "colab": {
          "base_uri": "https://localhost:8080/"
        },
        "outputId": "2f97c4a1-3f91-4a1c-eb33-5ab5dfb2ddfb"
      },
      "execution_count": null,
      "outputs": [
        {
          "output_type": "stream",
          "name": "stdout",
          "text": [
            "Enter the number:4356\n",
            "18\n"
          ]
        }
      ]
    },
    {
      "cell_type": "code",
      "source": [
        "# n = int(input('Enter the number:'))\n",
        "# n_str = str(n)\n",
        "# _total = 0\n",
        "# for i,j in enumerate(n_str):\n",
        "#   _total = _total + int(j)\n",
        "\n",
        "# print(_total)\n",
        "\n",
        "\n",
        "# n = int(input('Enter the number:'))\n",
        "# n_str = str(n)\n",
        "# _total = 0\n",
        "# for i in enumerate(n_str): # \"4356\" --> [(0,'4'),(1,'3'),(2,'5'),(3,'6')] - i = (0, '4')\n",
        "#   _total = _total + int(i[1])\n",
        "\n",
        "# print(_total)"
      ],
      "metadata": {
        "colab": {
          "base_uri": "https://localhost:8080/"
        },
        "id": "jIXbl0LRSqE4",
        "outputId": "684bdbc0-bf5a-4d37-fa18-bc3f55e6b391"
      },
      "execution_count": null,
      "outputs": [
        {
          "output_type": "stream",
          "name": "stdout",
          "text": [
            "Enter the number:4356\n",
            "18\n"
          ]
        }
      ]
    },
    {
      "cell_type": "code",
      "source": [
        "i = \"4567\"\n",
        "# Each element is here has become string\n",
        "i[0]"
      ],
      "metadata": {
        "id": "deXJN5Q3sB5G",
        "colab": {
          "base_uri": "https://localhost:8080/",
          "height": 35
        },
        "outputId": "d236ccc8-3fee-4bfc-c428-d32f3348e8aa"
      },
      "execution_count": null,
      "outputs": [
        {
          "output_type": "execute_result",
          "data": {
            "text/plain": [
              "'4'"
            ],
            "application/vnd.google.colaboratory.intrinsic+json": {
              "type": "string"
            }
          },
          "metadata": {},
          "execution_count": 28
        }
      ]
    },
    {
      "cell_type": "code",
      "source": [
        "# Question 9 :\n",
        "'''\n",
        "Write a Python program that takes an integer as input and checks whether it is a prime number.\n",
        "A prime number is a number greater than 1 that has no divisors other than 1 and itself.\n",
        "'''\n",
        "number = int(input('Enter the number:'))\n",
        "\n",
        "if number > 1:\n",
        "  _is_prime = 'Prime'\n",
        "\n",
        "  for i in range(2,number): # number +1\n",
        "    if number % i ==0:\n",
        "      _is_prime = 'Composite'\n",
        "      break\n",
        "\n",
        "  print(_is_prime)\n",
        "else:\n",
        "  print('Enter the number > 1')\n",
        "\n",
        "\n"
      ],
      "metadata": {
        "id": "ZmqyrSM7XZif",
        "colab": {
          "base_uri": "https://localhost:8080/"
        },
        "outputId": "b01b6d24-d8e2-4899-aa7c-3d3921883811"
      },
      "execution_count": null,
      "outputs": [
        {
          "output_type": "stream",
          "name": "stdout",
          "text": [
            "Enter the number:0\n",
            "Enter the number > 1\n"
          ]
        }
      ]
    },
    {
      "cell_type": "code",
      "source": [
        "number = int(input('Enter the number:'))\n",
        "\n",
        "_is_prime = 'Prime'\n",
        "\n",
        "for i in range(2,number//2+1):\n",
        "  if number % i ==0:\n",
        "    _is_prime = 'Composite'\n",
        "    break\n",
        "\n",
        "print(_is_prime)"
      ],
      "metadata": {
        "colab": {
          "base_uri": "https://localhost:8080/"
        },
        "id": "kuOsPwgoXyS6",
        "outputId": "45f4d5b2-c25a-4362-cbc4-38df0b8bba19"
      },
      "execution_count": null,
      "outputs": [
        {
          "output_type": "stream",
          "name": "stdout",
          "text": [
            "Enter the number:29\n",
            "Prime\n"
          ]
        }
      ]
    },
    {
      "cell_type": "code",
      "source": [
        "# Question 10 :\n",
        "'''\n",
        "Write a Python program that iterates through a list of items using enumerate().\n",
        "If an item is out of stock (represented by None),\n",
        "use the continue statement to skip printing that item. Otherwise, print the index and item name.\n",
        "shopping_list = ['apples', None, 'bread', 'milk', None, 'eggs']\n",
        "'''\n",
        "shopping_list = ['apples', None, 'bread', 'milk', None, 'eggs']\n",
        "\n",
        "for _index, _item in enumerate(shopping_list):\n",
        "  if _item == None:\n",
        "    continue\n",
        "  print(f'Product {_item} is at index {_index}')\n"
      ],
      "metadata": {
        "id": "SX5dzFB0ZuVY",
        "colab": {
          "base_uri": "https://localhost:8080/"
        },
        "outputId": "52f1c850-03bf-4fa1-9b2a-05b549c1e38d"
      },
      "execution_count": null,
      "outputs": [
        {
          "output_type": "stream",
          "name": "stdout",
          "text": [
            "Product apples is at index 0\n",
            "Product bread is at index 2\n",
            "Product milk is at index 3\n",
            "Product eggs is at index 5\n"
          ]
        }
      ]
    },
    {
      "cell_type": "code",
      "source": [
        "# Question 11 : Pattern questions\n",
        "'''\n",
        "Write a Python program to print the following pattern based on depth on n\n",
        "n = 5\n",
        "*\n",
        "**\n",
        "***\n",
        "****\n",
        "*****\n",
        "\n",
        "'''\n",
        "\n",
        "# 'a' * 2 = 'aa' --> Repeatations\n",
        "\n",
        "n = int(input('Enter the depth of pattern:'))\n",
        "\n",
        "for i in range(1,n+1):\n",
        "  print('*' * i)\n"
      ],
      "metadata": {
        "id": "0PMTfnYhaE5r",
        "colab": {
          "base_uri": "https://localhost:8080/"
        },
        "outputId": "4b936778-fbe0-4d97-cbff-b99a51d5f070"
      },
      "execution_count": null,
      "outputs": [
        {
          "output_type": "stream",
          "name": "stdout",
          "text": [
            "Enter the depth of pattern:10\n",
            "*\n",
            "**\n",
            "***\n",
            "****\n",
            "*****\n",
            "******\n",
            "*******\n",
            "********\n",
            "*********\n",
            "**********\n"
          ]
        }
      ]
    },
    {
      "cell_type": "code",
      "source": [
        "# 'a' + 2 # Error-->\n",
        "'a' * 2 # + for concatenation (Str + Str) , * (Str * Int) --> repeatation"
      ],
      "metadata": {
        "colab": {
          "base_uri": "https://localhost:8080/",
          "height": 35
        },
        "id": "bUykcLvBcQwc",
        "outputId": "bea69f8b-f8d6-4abb-eb60-517e704d4b49"
      },
      "execution_count": null,
      "outputs": [
        {
          "output_type": "execute_result",
          "data": {
            "text/plain": [
              "'aa'"
            ],
            "application/vnd.google.colaboratory.intrinsic+json": {
              "type": "string"
            }
          },
          "metadata": {},
          "execution_count": 44
        }
      ]
    },
    {
      "cell_type": "code",
      "source": [
        "'*' * 3"
      ],
      "metadata": {
        "colab": {
          "base_uri": "https://localhost:8080/",
          "height": 35
        },
        "id": "vWB88D2JerCW",
        "outputId": "6e085007-c910-40cd-98c1-24233d506f7f"
      },
      "execution_count": null,
      "outputs": [
        {
          "output_type": "execute_result",
          "data": {
            "text/plain": [
              "'***'"
            ],
            "application/vnd.google.colaboratory.intrinsic+json": {
              "type": "string"
            }
          },
          "metadata": {},
          "execution_count": 47
        }
      ]
    },
    {
      "cell_type": "code",
      "source": [
        "# Question 12:\n",
        "'''\n",
        "# Looping over dictionary and find the defective product\n",
        "'''\n",
        "ex = {'Product A': False, 'Product B': True, 'Product C': False, 'Product D': False, 'Product E': True }\n",
        "# print(ex.items())\n",
        "# print(list(enumerate(ex))) #\n",
        "# print(list(enumerate(ex.items())))\n",
        "for _prod , _defect in ex.items():\n",
        "  if _defect  == True:\n",
        "    print(_prod)\n",
        "\n",
        "\n",
        "\n"
      ],
      "metadata": {
        "id": "O2JA0CT6kb7N",
        "colab": {
          "base_uri": "https://localhost:8080/"
        },
        "outputId": "da50072d-f0ff-43b4-c110-5bac0f54ad14"
      },
      "execution_count": null,
      "outputs": [
        {
          "output_type": "stream",
          "name": "stdout",
          "text": [
            "Product B\n",
            "Product E\n"
          ]
        }
      ]
    },
    {
      "cell_type": "code",
      "source": [
        "# Question 13 :\n",
        "'''\n",
        "#Find the links not working from the log data\n",
        "'''\n",
        "log = { '/home' : 200, '/about':200, '/home/product':200, '/home/product/electronic': 404,'/home/product/fashion': 200 }\n",
        "\n",
        "# www.almabetter.com/home\n",
        "\n",
        "for _link,_message in log.items():\n",
        "  if _message == 404:\n",
        "    print(_link)\n",
        "\n"
      ],
      "metadata": {
        "id": "NEGwjE_4oDi0",
        "colab": {
          "base_uri": "https://localhost:8080/"
        },
        "outputId": "e7ae06b1-0e97-4367-fc82-cd33e52a997e"
      },
      "execution_count": null,
      "outputs": [
        {
          "output_type": "stream",
          "name": "stdout",
          "text": [
            "/home/product/electronic\n"
          ]
        }
      ]
    },
    {
      "cell_type": "code",
      "source": [],
      "metadata": {
        "id": "fPuYo0tgijh0"
      },
      "execution_count": null,
      "outputs": []
    },
    {
      "cell_type": "code",
      "source": [
        "# Question 14:\n",
        "\n",
        "# Print the longest word in the sentence\n",
        "\n",
        "sentence = input('Enter the sentence: ')\n",
        "# This is python, Very Interesting\n",
        "list_of_words = sentence.split(' ')\n",
        "# print(list_of_words)\n",
        "_longest_word = list_of_words[0]\n",
        "\n",
        "for i in list_of_words:\n",
        "  if len(i) > len(_longest_word):\n",
        "    _longest_word = i\n",
        "\n",
        "print(_longest_word)\n",
        "\n",
        "\n",
        "\n"
      ],
      "metadata": {
        "id": "jS7y31WFkxIf",
        "colab": {
          "base_uri": "https://localhost:8080/"
        },
        "outputId": "7e6720ed-696d-4561-9b58-9ed1720e9063"
      },
      "execution_count": null,
      "outputs": [
        {
          "output_type": "stream",
          "name": "stdout",
          "text": [
            "Enter the sentence: This is python, Very Interesting\n",
            "['This', 'is', 'python,', 'Very', 'Interesting']\n",
            "Interesting\n"
          ]
        }
      ]
    },
    {
      "cell_type": "code",
      "source": [
        "# Question 15:\n",
        "'''\n",
        "Write a program that counts the number of vowels in a given string.\n",
        "\n",
        "Expected output\n",
        "\n",
        "# String : 'AlmaBetter' output : 4\n",
        "# String : 'Data Science' output : 5\n",
        "'''\n",
        "\n",
        "word = input('Enter the word :')\n",
        "\n",
        "_count = 0\n",
        "\n",
        "for i in word:\n",
        "  if i.lower() in 'aeiou':\n",
        "    _count = _count + 1\n",
        "\n",
        "print(_count)\n"
      ],
      "metadata": {
        "id": "0uAP-J8ziVEu",
        "colab": {
          "base_uri": "https://localhost:8080/"
        },
        "outputId": "94d69c48-03b5-4a40-a42b-59705991a6a6"
      },
      "execution_count": null,
      "outputs": [
        {
          "output_type": "stream",
          "name": "stdout",
          "text": [
            "Enter the word :AlmaBetter\n",
            "4\n"
          ]
        }
      ]
    },
    {
      "cell_type": "code",
      "source": [
        "# Question 16:\n",
        "'''\n",
        "Create a dictionary with key as unique characters in a word\n",
        "and value as number of times character is repeating\n",
        "Input : 'AlmaBetter' output : {'A': 1, 'a': 1, 't': 2, 'm': 1, 'e': 2, 'r': 1, 'l': 1, 'B': 1}\n",
        "Input : 'Data' output : {'D': 1, 'a': 2, 't': 1}\n",
        "'''\n",
        "word = input('Enter the word: ') # AlmaBetter\n",
        "\n",
        "_out = {} # Empty Dictionary\n",
        "\n",
        "for i in word: # AlmaBetter\n",
        "  _out[i] = word.count(i) # _out['A'] = 'AlmaBetter'.count('A') -> 1 : {'A':1}\n",
        "  # c = word.count(i)\n",
        "  # _out.update({i:c})\n",
        "\n",
        "print(_out)\n"
      ],
      "metadata": {
        "id": "1lwUVERwk3wM",
        "colab": {
          "base_uri": "https://localhost:8080/"
        },
        "outputId": "b167d00b-99ab-48cf-caa9-c93f797625ff"
      },
      "execution_count": null,
      "outputs": [
        {
          "output_type": "stream",
          "name": "stdout",
          "text": [
            "Enter the word: AlmaBetter\n",
            "{'A': 1, 'l': 1, 'm': 1, 'a': 1, 'B': 1, 'e': 2, 't': 2, 'r': 1}\n"
          ]
        }
      ]
    },
    {
      "cell_type": "code",
      "source": [
        "# Empty Set\n",
        "a = set() # {}--> Dictionary"
      ],
      "metadata": {
        "id": "Ra_qqa-RkmGt"
      },
      "execution_count": null,
      "outputs": []
    },
    {
      "cell_type": "code",
      "source": [
        "_dict = {'a':4, 'b':6}\n",
        "# _dict['a']\n",
        "_dict['c']"
      ],
      "metadata": {
        "id": "5j2w5Vpqnxwo",
        "colab": {
          "base_uri": "https://localhost:8080/",
          "height": 176
        },
        "outputId": "0fc8eb2e-c0cc-4888-80a2-189d5b995954"
      },
      "execution_count": null,
      "outputs": [
        {
          "output_type": "error",
          "ename": "KeyError",
          "evalue": "'c'",
          "traceback": [
            "\u001b[0;31m---------------------------------------------------------------------------\u001b[0m",
            "\u001b[0;31mKeyError\u001b[0m                                  Traceback (most recent call last)",
            "\u001b[0;32m<ipython-input-66-df260bc2a6c1>\u001b[0m in \u001b[0;36m<cell line: 3>\u001b[0;34m()\u001b[0m\n\u001b[1;32m      1\u001b[0m \u001b[0m_dict\u001b[0m \u001b[0;34m=\u001b[0m \u001b[0;34m{\u001b[0m\u001b[0;34m'a'\u001b[0m\u001b[0;34m:\u001b[0m\u001b[0;36m4\u001b[0m\u001b[0;34m,\u001b[0m \u001b[0;34m'b'\u001b[0m\u001b[0;34m:\u001b[0m\u001b[0;36m6\u001b[0m\u001b[0;34m}\u001b[0m\u001b[0;34m\u001b[0m\u001b[0;34m\u001b[0m\u001b[0m\n\u001b[1;32m      2\u001b[0m \u001b[0;31m# _dict['a']\u001b[0m\u001b[0;34m\u001b[0m\u001b[0;34m\u001b[0m\u001b[0m\n\u001b[0;32m----> 3\u001b[0;31m \u001b[0m_dict\u001b[0m\u001b[0;34m[\u001b[0m\u001b[0;34m'c'\u001b[0m\u001b[0;34m]\u001b[0m\u001b[0;34m\u001b[0m\u001b[0;34m\u001b[0m\u001b[0m\n\u001b[0m",
            "\u001b[0;31mKeyError\u001b[0m: 'c'"
          ]
        }
      ]
    },
    {
      "cell_type": "code",
      "source": [
        "_dict.get('c') # It will not throw an error."
      ],
      "metadata": {
        "id": "vK5ZL-WMj7jA"
      },
      "execution_count": null,
      "outputs": []
    },
    {
      "cell_type": "code",
      "source": [
        "_dict"
      ],
      "metadata": {
        "colab": {
          "base_uri": "https://localhost:8080/"
        },
        "id": "gNMobAWTkgCq",
        "outputId": "d7c4cc8c-c20c-4e0f-d942-26113b6e3a8a"
      },
      "execution_count": null,
      "outputs": [
        {
          "output_type": "execute_result",
          "data": {
            "text/plain": [
              "{'a': 4, 'b': 6}"
            ]
          },
          "metadata": {},
          "execution_count": 71
        }
      ]
    },
    {
      "cell_type": "code",
      "source": [
        "# Question 17:\n",
        "# Provide the output as even values in the list  as input\n",
        "# _list = [3,4,5,6,7,8] , output = [4,6,8]\n",
        "\n",
        "_list = [3,4,5,6,7,8]\n",
        "_out = []\n",
        "\n",
        "for i in _list:\n",
        "  if i % 2==0:\n",
        "    _out.append(i)\n",
        "\n",
        "print(_out)\n"
      ],
      "metadata": {
        "colab": {
          "base_uri": "https://localhost:8080/"
        },
        "id": "9HcdU5YBodZ7",
        "outputId": "53b45f6f-859d-4ed6-cbb8-a2b99c186fd0"
      },
      "execution_count": null,
      "outputs": [
        {
          "output_type": "stream",
          "name": "stdout",
          "text": [
            "[4, 6, 8]\n"
          ]
        }
      ]
    },
    {
      "cell_type": "code",
      "source": [
        "# Question 17: - Contd\n",
        "# Provide the output as even values in the list  as input\n",
        "# _list = [3,4,5,6,7,8] , output = (4,6,8)\n",
        "\n",
        "_list = [3,4,5,6,7,8]\n",
        "_out = []\n",
        "\n",
        "for i in _list:\n",
        "  if i % 2==0:\n",
        "    _out.append(i)\n",
        "\n",
        "print(tuple(_out))"
      ],
      "metadata": {
        "colab": {
          "base_uri": "https://localhost:8080/"
        },
        "id": "_khPDlbnl7Gl",
        "outputId": "a601da50-cb1b-4277-b349-c06ab9103caf"
      },
      "execution_count": null,
      "outputs": [
        {
          "output_type": "stream",
          "name": "stdout",
          "text": [
            "(4, 6, 8)\n"
          ]
        }
      ]
    },
    {
      "cell_type": "code",
      "source": [
        "# Question 18:\n",
        "# Input : Word - 'AlmaBetter' --> 'lmBttr' | Consonants\n",
        "\n",
        "word = input('Enter the word: ')\n",
        "\n",
        "_str = ''\n",
        "for i in word:\n",
        "  if i.lower() not in 'aeiou':\n",
        "    _str = _str + i # Concatenate\n",
        "print(_str)"
      ],
      "metadata": {
        "colab": {
          "base_uri": "https://localhost:8080/"
        },
        "id": "3DxqPsb5pwES",
        "outputId": "3eab552e-59ca-45f4-ce1a-d44a3a6f9ce0"
      },
      "execution_count": null,
      "outputs": [
        {
          "output_type": "stream",
          "name": "stdout",
          "text": [
            "Enter the word: AlmaBetter\n",
            "lmBttr\n"
          ]
        }
      ]
    },
    {
      "cell_type": "code",
      "source": [
        "word = input('Enter the word: ')\n",
        "\n",
        "_list = []\n",
        "for i in word: # AlmaBetter\n",
        "  if i.lower() not in 'aeiou':\n",
        "    _list.append(i)\n",
        "print(_list) # 'lmBttr'\n",
        "# List of character --> String (.join())\n",
        "print(''.join(_list))"
      ],
      "metadata": {
        "colab": {
          "base_uri": "https://localhost:8080/"
        },
        "id": "B90qyhCOm3WF",
        "outputId": "425c56c5-c420-4c46-f710-7e87e7ce153f"
      },
      "execution_count": null,
      "outputs": [
        {
          "output_type": "stream",
          "name": "stdout",
          "text": [
            "Enter the word: AlmaBetter\n",
            "['l', 'm', 'B', 't', 't', 'r']\n",
            "lmBttr\n"
          ]
        }
      ]
    },
    {
      "cell_type": "code",
      "source": [
        "string = input(\"Enter a string: \")\n",
        "for char in string:\n",
        "  if char in \"aeiouAEIOU\":\n",
        "    string = string.replace(char,\"\")\n",
        "print(string)"
      ],
      "metadata": {
        "colab": {
          "base_uri": "https://localhost:8080/"
        },
        "id": "IJWz1jzsneoa",
        "outputId": "511fccef-6ea4-4598-8eb2-fb3e2aded17c"
      },
      "execution_count": null,
      "outputs": [
        {
          "output_type": "stream",
          "name": "stdout",
          "text": [
            "Enter a string: AlmaBetter\n",
            "lmBttr\n"
          ]
        }
      ]
    },
    {
      "cell_type": "markdown",
      "source": [
        "#### Nested For loop"
      ],
      "metadata": {
        "id": "8pubZPaLmljt"
      }
    },
    {
      "cell_type": "code",
      "source": [
        "# Practice\n",
        "# Nested for loop means\n",
        "# For loop inside the for loop\n",
        "for i in ...:\n",
        "  for j in ...:\n",
        "    for k in ...:\n"
      ],
      "metadata": {
        "id": "GT9RXaNjoZxV"
      },
      "execution_count": null,
      "outputs": []
    },
    {
      "cell_type": "code",
      "source": [
        "list_1 = [1,2,3,4]\n",
        "list_2 = ['a','b','c','d']\n",
        "# Iterations : 16\n",
        "for i in list_1:\n",
        "  for j in list_2:\n",
        "    print(f'Value of i: {i} and Value of j : {j}')\n",
        "# No of iterations in nested loop : (1st for ) number of elements * (2nd for) number of elements * 3rd for number of elements"
      ],
      "metadata": {
        "id": "Glj5o3-7ongl",
        "colab": {
          "base_uri": "https://localhost:8080/"
        },
        "outputId": "25be6034-b729-409f-8bca-d987b85a0a9d"
      },
      "execution_count": null,
      "outputs": [
        {
          "output_type": "stream",
          "name": "stdout",
          "text": [
            "Value of i: 1 and Value of j : a\n",
            "Value of i: 1 and Value of j : b\n",
            "Value of i: 1 and Value of j : c\n",
            "Value of i: 1 and Value of j : d\n",
            "Value of i: 2 and Value of j : a\n",
            "Value of i: 2 and Value of j : b\n",
            "Value of i: 2 and Value of j : c\n",
            "Value of i: 2 and Value of j : d\n",
            "Value of i: 3 and Value of j : a\n",
            "Value of i: 3 and Value of j : b\n",
            "Value of i: 3 and Value of j : c\n",
            "Value of i: 3 and Value of j : d\n",
            "Value of i: 4 and Value of j : a\n",
            "Value of i: 4 and Value of j : b\n",
            "Value of i: 4 and Value of j : c\n",
            "Value of i: 4 and Value of j : d\n"
          ]
        }
      ]
    },
    {
      "cell_type": "code",
      "source": [
        "# Question 16: Nested for loop\n",
        "'''\n",
        "Print this pattern -\n",
        "1\n",
        "12\n",
        "123\n",
        "1234\n",
        "12345\n",
        "'''\n",
        "depth = int(input('Enter the depth:'))\n",
        "\n",
        "for i in range(1,depth +1):\n",
        "  for j in range(1, i +1): # range(1,2) --> [1]\n",
        "    print(j,end = '*')\n",
        "  print() # It is taking the print to next line\n",
        "\n",
        "# i : row\n",
        "# j : numbers in that row\n",
        "\n",
        "# Iterations\n",
        "# I1 :\n",
        "# i = 1\n",
        "# j = 1 # range(1,2)\n",
        "# print(j,end = '')\n",
        "# print()\n",
        "# I2 :\n",
        "# i = 2\n",
        "# j = range(1,3) --> [1,2]\n",
        "# j = 1\n",
        "# print(j,end = '')\n",
        "# j = 2\n",
        "# print(j,end = '')\n",
        "# print() --> break the print to next line\n",
        "# I3 :\n",
        "# i = 3\n",
        "# j = range(1,4) --> 1,2,3\n",
        "# j = 1\n",
        "# print(j,end = '')\n",
        "# j = 2\n",
        "# print(j,end = '')\n",
        "# j = 3\n",
        "# print(j,end = '')\n",
        "# print()"
      ],
      "metadata": {
        "colab": {
          "base_uri": "https://localhost:8080/"
        },
        "id": "g_5hX8fcj47m",
        "outputId": "f28bf16f-6cea-4e3a-fb5d-78f8a984b41c"
      },
      "execution_count": null,
      "outputs": [
        {
          "output_type": "stream",
          "name": "stdout",
          "text": [
            "Enter the depth:5\n",
            "1*\n",
            "1*2*\n",
            "1*2*3*\n",
            "1*2*3*4*\n",
            "1*2*3*4*5*\n"
          ]
        }
      ]
    },
    {
      "cell_type": "code",
      "source": [
        "list(range(depth +1, 1, -1))"
      ],
      "metadata": {
        "id": "pgC2x72QTA8y"
      },
      "execution_count": null,
      "outputs": []
    },
    {
      "cell_type": "code",
      "source": [
        "_list = [10,20,30]\n",
        "for i in _list:\n",
        "  print(i, end = ' ')"
      ],
      "metadata": {
        "colab": {
          "base_uri": "https://localhost:8080/"
        },
        "id": "y2tLvu6wQKU_",
        "outputId": "b3e2a210-2489-4de9-c52c-a2f5dc334c81"
      },
      "execution_count": null,
      "outputs": [
        {
          "output_type": "stream",
          "name": "stdout",
          "text": [
            "10 20 30 "
          ]
        }
      ]
    },
    {
      "cell_type": "markdown",
      "source": [
        "#### Self Practice (4 Questions + 3 Questions present on dasboard)"
      ],
      "metadata": {
        "id": "vWW3e_LWaiUx"
      }
    },
    {
      "cell_type": "code",
      "source": [
        "# sum of even numbers in a list -->\n",
        "# List --> as an input\n",
        "# _li = list(input(\"enter list of number: \"))\n",
        "# print(_li)\n",
        "\n",
        "# _str = '[2,3,4,5]'\n",
        "# list(_str)\n",
        "# # _list = eval(_str)\n",
        "# # for i in _list:\n",
        "# #   print(i)\n",
        "\n",
        "num = eval(input(\"enter the value\"))\n",
        "# type(num)\n",
        "_sum = 0 # Secondary variable | Collect the sum of even numbers\n",
        "for i in num: # [34,56,78,97]\n",
        "  # print(i)\n",
        "  if i%2==0:\n",
        "    _sum = _sum + i # 0 + 34 = 34 , # 34 + 56 = 90 # 90 + 78 = 168\n",
        "print(_sum)\n",
        "\n",
        "# Value of i in Iteration 1 :\n",
        "# i = 34\n"
      ],
      "metadata": {
        "colab": {
          "base_uri": "https://localhost:8080/"
        },
        "id": "tH3a7BsYpjsv",
        "outputId": "cb2441f1-9fd3-4cc6-a7d1-5a3243dc9fd7"
      },
      "execution_count": null,
      "outputs": [
        {
          "output_type": "stream",
          "name": "stdout",
          "text": [
            "enter the value[50,60,97,85]\n",
            "110\n"
          ]
        }
      ]
    },
    {
      "cell_type": "code",
      "source": [
        "_input = eval(input(\"enter the list\"))\n",
        "_sum = 0\n",
        "for i in _input :\n",
        "  if i%2==0:\n",
        "    _sum=_sum+i\n",
        "print(_sum)"
      ],
      "metadata": {
        "colab": {
          "base_uri": "https://localhost:8080/"
        },
        "id": "sRrMoAsxvE_P",
        "outputId": "241dc90c-aaf6-4b69-8a3c-833470dc504b"
      },
      "execution_count": null,
      "outputs": [
        {
          "output_type": "stream",
          "name": "stdout",
          "text": [
            "enter the list[3,4,5,6]\n",
            "10\n"
          ]
        }
      ]
    },
    {
      "cell_type": "code",
      "source": [
        "# Question 1 : (Easy)\n",
        "'''\n",
        "For any num print the total sum of digits applying the logic of if number is even do square, else do cube\n",
        "\n",
        "Input : 123  Output = 32  # 1^3 + 2^2 + 3^3 = 1 + 4 + 27\n",
        "Input : 467  Output  = 395  # 4 ^ 2 + 6 ^ 2 + 7 ^3 = 16 + 36 + 343\n",
        "\n",
        "'''\n",
        "\n",
        "num = eval(input('Enter the number:')) # 345\n",
        "num_str = str(num) # '345'\n",
        "_total = 0\n",
        "for i in num_str : # i = '3', '4' , '5'\n",
        "  # print(i)\n",
        "  if int(i) % 2 ==0 :\n",
        "    _total = _total + int(i) **2\n",
        "  else:\n",
        "    _total = _total + int(i) **3\n",
        "\n",
        "print(_total)\n",
        "\n",
        "\n",
        "\n"
      ],
      "metadata": {
        "colab": {
          "base_uri": "https://localhost:8080/"
        },
        "id": "i0-obOWhfWiu",
        "outputId": "b8e7289d-9a50-43a0-e726-99cbef78094c"
      },
      "execution_count": null,
      "outputs": [
        {
          "output_type": "stream",
          "name": "stdout",
          "text": [
            "Enter the number:467\n",
            "395\n"
          ]
        }
      ]
    },
    {
      "cell_type": "code",
      "source": [
        "_list = [2,3,4,5]\n",
        "_total = 0\n",
        "for i in _list: # i =2 , 3, 4 ,5\n",
        "  _total = i\n",
        "\n",
        "print(_total) # Total Sum of elements (2+3+4+5)\n",
        "# Iteration 1: i = 2\n",
        "_total = 2\n",
        "# Iteration 2: i = 3\n",
        "_total = 3\n",
        "# Iteration 3 : i= 4\n",
        "_total = 4\n",
        "# Iteration 4 : i = 5\n",
        "_total = 5"
      ],
      "metadata": {
        "id": "GwfL141812lF"
      },
      "execution_count": null,
      "outputs": []
    },
    {
      "cell_type": "code",
      "source": [
        "# _str = '2345'\n",
        "# for i in _str:\n",
        "#   if int(i) % 2 == 0:\n",
        "#     print(int(i) ** 2)\n",
        "#   else:\n",
        "#     print(int(i) ** 3)\n",
        "\n",
        "  # Total = Total + i\n",
        "\n",
        "# Input : 123  Output = 32  # 1^3 + 2^2 + 3^3 = 1 + 4 + 27"
      ],
      "metadata": {
        "colab": {
          "base_uri": "https://localhost:8080/"
        },
        "id": "DFpi_CTX1H6o",
        "outputId": "ae58134c-469a-4797-fea3-32d3339feda9"
      },
      "execution_count": null,
      "outputs": [
        {
          "output_type": "stream",
          "name": "stdout",
          "text": [
            "4\n",
            "27\n",
            "16\n",
            "125\n"
          ]
        }
      ]
    },
    {
      "cell_type": "code",
      "source": [
        "_total = _total + 1"
      ],
      "metadata": {
        "id": "dEQV09DW0QOx"
      },
      "execution_count": null,
      "outputs": []
    },
    {
      "cell_type": "code",
      "source": [
        "# str(input(''))"
      ],
      "metadata": {
        "id": "lzJHvd950BZN"
      },
      "execution_count": null,
      "outputs": []
    },
    {
      "cell_type": "code",
      "source": [
        "_str = '3456'\n",
        "type(_str[1])"
      ],
      "metadata": {
        "colab": {
          "base_uri": "https://localhost:8080/"
        },
        "id": "5zSZZApPzMEP",
        "outputId": "4adb2a68-6bb1-4e38-fb40-de702b4d1e06"
      },
      "execution_count": null,
      "outputs": [
        {
          "output_type": "execute_result",
          "data": {
            "text/plain": [
              "str"
            ]
          },
          "metadata": {},
          "execution_count": 31
        }
      ]
    },
    {
      "cell_type": "code",
      "source": [
        "1+ 125+27"
      ],
      "metadata": {
        "colab": {
          "base_uri": "https://localhost:8080/"
        },
        "id": "OjqYuKVx3vgI",
        "outputId": "fabfa615-6565-444a-99c1-b7b04d2305c3"
      },
      "execution_count": null,
      "outputs": [
        {
          "output_type": "execute_result",
          "data": {
            "text/plain": [
              "153"
            ]
          },
          "metadata": {},
          "execution_count": 38
        }
      ]
    },
    {
      "cell_type": "code",
      "source": [
        "1 ** (3) + 5 ** (3) + 3**3"
      ],
      "metadata": {
        "colab": {
          "base_uri": "https://localhost:8080/"
        },
        "id": "lNb4kNJ63ymW",
        "outputId": "2b000ae0-597d-48d9-ab0e-08ec36592a4b"
      },
      "execution_count": null,
      "outputs": [
        {
          "output_type": "execute_result",
          "data": {
            "text/plain": [
              "153"
            ]
          },
          "metadata": {},
          "execution_count": 37
        }
      ]
    },
    {
      "cell_type": "code",
      "source": [
        "# Armstrong Number\n",
        "# 4567 == 4 ** 4 + 5 ** 4 + 6 **4 + 7 ** 4\n",
        "# 345 == 3 ** 3 + 4 ** 3+ 5 ** 3\n",
        "# 239 == 2 ** (3) + 3 ** (3) + 9 ** (3)\n",
        "# 153 == 1 ** (3) + 5 ** (3) + 3**3 = 1+ 125+27\n",
        "# 1634 : Armstrong number\n",
        "# 1-9 : Armstrong number\n",
        "# 45678 : 4 ** 5 + 5 ** 5 ....\n",
        "\n",
        "num = int(input('Enter the number:')) # 153 # 4567\n",
        "num_str = str(num) # '153' # '4567'\n",
        "_no_of_digits = len(num_str) # 3 # 4\n",
        "_total = 0\n",
        "\n",
        "for i in num_str:\n",
        "  _total = _total + int(i) ** _no_of_digits\n",
        "\n",
        "if num == _total:\n",
        "  print(f'{num} is an Armstrong Number')\n",
        "else:\n",
        "  print(f'{num} is not an Armstrong number')\n"
      ],
      "metadata": {
        "colab": {
          "base_uri": "https://localhost:8080/"
        },
        "id": "9zVz2x_L3C12",
        "outputId": "5d2aeb61-cc98-4a48-a7c9-00b705f39241"
      },
      "execution_count": null,
      "outputs": [
        {
          "output_type": "stream",
          "name": "stdout",
          "text": [
            "Enter the number:1634\n",
            "1634 is an Armstrong Number\n"
          ]
        }
      ]
    },
    {
      "cell_type": "code",
      "source": [
        "# Question 2: (Hard)\n",
        "'''\n",
        "The Fibonacci series is a sequence of numbers where each number is\n",
        "the sum of the two preceding ones, starting from 0 and 1.\n",
        "The series begins as follows:\n",
        "\n",
        "# Fibonacci Series : 0, 1, 1, 2, 3, 5, 8, 13, 21, 34,...\n",
        "# input = 0 , fibonacci_output = [0]\n",
        "# input = 1 , fibonacci_output = [0,1]\n",
        "# input = 2 , fibonacci_output = [0,1,1]\n",
        "# input = 3 , fibonacci_output = [0,1,1,2]\n",
        "# input = 4 , fibonacci_output = [0,1,1,2,3]\n",
        "# input = 5 , fibonacci_output = [0,1,1,2,3,5] # till 5th index print the fibonacci series\n",
        "'''\n",
        "_index = int(input('Enter the index till which you want the fibonacci series:')) # 0\n",
        "_fibo = [0,1]\n",
        "\n",
        "for i in range(2,_index+1): # range(2,1) = []\n",
        "  next_number = _fibo[-1] + _fibo[-2]\n",
        "  _fibo.append(next_number)\n",
        "\n",
        "print(_fibo[:_index+1]) # fibo[:1]  # 0th\n",
        "\n",
        "# Iterations\n",
        "# i = 2 # _fibo = [0,1]\n",
        "# next_number = _fibo[-1] + _fibo[-2] | 0 +1 = 1\n",
        "# _fibo.append(next_number) # _fibo = [0,1,1]\n",
        "\n",
        "# i = 3 # _fibo = [0,1,1]\n",
        "# next_number = _fibo[-1] + _fibo[-2] | 1 + 1 = 2\n",
        "# _fibo.append(next_number) # _fibo = [0,1,1,2]\n",
        "\n",
        "# i = 4 # _fibo = [0,1,1,2]\n",
        "# next_number = _fibo[-1] + _fibo[-2] | 2 + 1= 3\n",
        "# _fibo.append(next_number) # [0,1,1,2,3]\n",
        "\n",
        "# i = 5 # fibo = [0,1,1,2,3]\n",
        "# next_number = _fibo[-1] + _fibo[-2] |  3 + 2 = 5\n",
        "# _fibo.append(next_number) # [0,1,1,2,3,5]"
      ],
      "metadata": {
        "id": "Dgxs6L3AnBS9",
        "colab": {
          "base_uri": "https://localhost:8080/"
        },
        "outputId": "b70f5207-aec8-42da-8bcc-8f8c19838945"
      },
      "execution_count": null,
      "outputs": [
        {
          "output_type": "stream",
          "name": "stdout",
          "text": [
            "Enter the index till which you want the fibonacci series:5\n",
            "[2, 3, 5, 8, 13, 21]\n"
          ]
        }
      ]
    },
    {
      "cell_type": "code",
      "source": [
        "_index = 2\n",
        "_fibo = [0,1,1,2,3,5]\n",
        "#  index\n",
        "_fibo[:_index+1] # _fibo[:2] --> [0,1] # _fibo[:1] --> [0]"
      ],
      "metadata": {
        "colab": {
          "base_uri": "https://localhost:8080/"
        },
        "id": "zMpRNjxbB-lG",
        "outputId": "4950cd22-c756-4fce-b535-4ff645fb000d"
      },
      "execution_count": null,
      "outputs": [
        {
          "output_type": "execute_result",
          "data": {
            "text/plain": [
              "[0, 1, 1]"
            ]
          },
          "metadata": {},
          "execution_count": 49
        }
      ]
    },
    {
      "cell_type": "code",
      "source": [
        "# Question 3: (Hard)\n",
        "'''\n",
        "Print the pyramid pattern using a for loop.\n",
        "depth = 6\n",
        "     *\n",
        "    ***\n",
        "   *****\n",
        "  *******\n",
        " *********\n",
        "***********\n",
        "'''\n",
        "# Pattern : depth = 6\n",
        "# 1st row : Space : 5 , star = 1\n",
        "# 2nd Row : Spaces : 4 , star = 3\n",
        "# 3rd row : Spaces : 3 , star = 5\n",
        "# 4th row : Spaces : 2 , Star = 7\n",
        "# 5th row : Spaces : 1, Star = 9\n",
        "# 6th row : Spaces : 0 , Star = 11\n",
        "\n",
        "depth = int(input('Enter the depth:'))\n",
        "\n",
        "spaces = list(range(depth-1,-1, -1)) # [5,4,3,2,1,0]\n",
        "star = list(range(1,2* depth, 2)) # [1,3,5,7,9,11]\n",
        "\n",
        "for i,j in zip(spaces,star): #\n",
        "  print(' ' * i, '*' * j)"
      ],
      "metadata": {
        "id": "I_bD4oyTnrIA",
        "colab": {
          "base_uri": "https://localhost:8080/"
        },
        "outputId": "066e40bc-c5eb-4e31-f9dc-fca73efa543a"
      },
      "execution_count": null,
      "outputs": [
        {
          "output_type": "stream",
          "name": "stdout",
          "text": [
            "Enter the depth:5\n",
            "     *\n",
            "    ***\n",
            "   *****\n",
            "  *******\n",
            " *********\n"
          ]
        }
      ]
    },
    {
      "cell_type": "code",
      "source": [
        "# list(range(0, 12, 3))"
      ],
      "metadata": {
        "colab": {
          "base_uri": "https://localhost:8080/"
        },
        "id": "i1zLcyfUJUiM",
        "outputId": "8be05224-cffa-4fcf-f605-7a46c1fca117"
      },
      "execution_count": null,
      "outputs": [
        {
          "output_type": "execute_result",
          "data": {
            "text/plain": [
              "[0, 3, 6, 9]"
            ]
          },
          "metadata": {},
          "execution_count": 61
        }
      ]
    },
    {
      "cell_type": "code",
      "source": [
        "list(zip(spaces,star))"
      ],
      "metadata": {
        "colab": {
          "base_uri": "https://localhost:8080/"
        },
        "id": "2fbmFNfuIlv1",
        "outputId": "13ae0910-6c0c-43fd-e9b0-f4ac7024592b"
      },
      "execution_count": null,
      "outputs": [
        {
          "output_type": "execute_result",
          "data": {
            "text/plain": [
              "[(5, 1), (4, 3), (3, 5), (2, 7), (1, 9), (0, 11)]"
            ]
          },
          "metadata": {},
          "execution_count": 58
        }
      ]
    },
    {
      "cell_type": "code",
      "source": [
        "depth = 6\n",
        "list(range(depth-1,-1, -1))\n",
        "list(range(1,2* depth, 2))"
      ],
      "metadata": {
        "colab": {
          "base_uri": "https://localhost:8080/"
        },
        "id": "d2iZAOXiG1TI",
        "outputId": "e5cf9320-555f-4ec2-f6cb-958530135f72"
      },
      "execution_count": null,
      "outputs": [
        {
          "output_type": "execute_result",
          "data": {
            "text/plain": [
              "[1, 3, 5, 7, 9, 11]"
            ]
          },
          "metadata": {},
          "execution_count": 53
        }
      ]
    },
    {
      "cell_type": "code",
      "source": [
        "# depth = 3\n",
        "'''\n",
        "  *\n",
        " ***\n",
        "*****\n",
        "\n",
        "'''\n",
        "# 1st row : Space : 2 , stars :1\n",
        "# 2nd row : Space : 1, Stars : 3\n",
        "# 3rd row : Spaces : 0, Stars : 5"
      ],
      "metadata": {
        "id": "6YOV_8QdF8FK"
      },
      "execution_count": null,
      "outputs": []
    },
    {
      "cell_type": "code",
      "source": [
        "[1,3,5,7,9,11][::-1]"
      ],
      "metadata": {
        "colab": {
          "base_uri": "https://localhost:8080/"
        },
        "id": "GiiP5I-QLb4z",
        "outputId": "85cdf0e4-9e9b-4b3d-acc8-b0465bef642f"
      },
      "execution_count": null,
      "outputs": [
        {
          "output_type": "execute_result",
          "data": {
            "text/plain": [
              "[11, 9, 7, 5, 3, 1]"
            ]
          },
          "metadata": {},
          "execution_count": 66
        }
      ]
    },
    {
      "cell_type": "code",
      "source": [
        "'''\n",
        "#***********\n",
        "# *********\n",
        "#  *******\n",
        "#   *****\n",
        "#    ***\n",
        "#     *\n",
        "'''\n",
        "depth = int(input('Enter the depth:'))\n",
        "\n",
        "spaces = list(range(depth-1,-1, -1))[::-1] # [0, 1, 2, 3, 4, 5]\n",
        "star = list(range(1,2* depth, 2))[::-1] # [11, 9, 7, 5, 3, 1]\n",
        "\n",
        "for i,j in zip(spaces,star): #\n",
        "  print(' ' * i, '*' * j)\n"
      ],
      "metadata": {
        "colab": {
          "base_uri": "https://localhost:8080/"
        },
        "id": "sPJVKeLBKMlV",
        "outputId": "922a585e-2229-4c09-9ed1-db31fddd82ce"
      },
      "execution_count": null,
      "outputs": [
        {
          "output_type": "stream",
          "name": "stdout",
          "text": [
            "Enter the depth:6\n",
            " ***********\n",
            "  *********\n",
            "   *******\n",
            "    *****\n",
            "     ***\n",
            "      *\n"
          ]
        }
      ]
    },
    {
      "cell_type": "code",
      "source": [],
      "metadata": {
        "id": "6bnTMLz1Ll9n"
      },
      "execution_count": null,
      "outputs": []
    },
    {
      "cell_type": "code",
      "source": [
        "#      *\n",
        "#     ***\n",
        "#    *****\n",
        "#   *******\n",
        "#  *********\n",
        "# ***********\n",
        "#  *********\n",
        "#   *******\n",
        "#    *****\n",
        "#     ***\n",
        "#      *\n",
        "depth = int(input('Enter the depth:'))\n",
        "\n",
        "spaces = list(range(depth-1,-1, -1)) # [5,4,3,2,1,0]\n",
        "star = list(range(1,2* depth, 2)) # [1,3,5,7,9,11]\n",
        "\n",
        "for i,j in zip(spaces,star): #\n",
        "  print(' ' * i, '*' * j)\n",
        "\n",
        "spaces = list(range(depth-1,-1, -1))[::-1] # [0, 1, 2, 3, 4, 5]\n",
        "star = list(range(1,2* depth, 2))[::-1] # [11, 9, 7, 5, 3, 1]\n",
        "\n",
        "for i,j in zip(spaces,star): #\n",
        "  print(' ' * i, '*' * j)\n"
      ],
      "metadata": {
        "id": "XaOt2QHGczAH",
        "colab": {
          "base_uri": "https://localhost:8080/"
        },
        "outputId": "19ff547e-1250-4687-e98b-5216db9d24b1"
      },
      "execution_count": null,
      "outputs": [
        {
          "output_type": "stream",
          "name": "stdout",
          "text": [
            "Enter the depth:5\n",
            "     *\n",
            "    ***\n",
            "   *****\n",
            "  *******\n",
            " *********\n",
            " *********\n",
            "  *******\n",
            "   *****\n",
            "    ***\n",
            "     *\n"
          ]
        }
      ]
    },
    {
      "cell_type": "code",
      "source": [
        "for i in range(1,6):\n",
        "  for j in range(1,6):\n",
        "    print(f'{i}:{j}')\n",
        "\n",
        "# Output??\n",
        "# 1:1\n",
        "# 1:2\n",
        "# 1:3\n",
        "# ....\n",
        "\n",
        "# 1:1\n",
        "# 2:2\n",
        "# 3:3"
      ],
      "metadata": {
        "colab": {
          "base_uri": "https://localhost:8080/"
        },
        "id": "NHNC3MFw-Rqf",
        "outputId": "9adb5a03-1b78-46c7-9e74-7985c758cd3a"
      },
      "execution_count": null,
      "outputs": [
        {
          "output_type": "stream",
          "name": "stdout",
          "text": [
            "1:1\n",
            "1:2\n",
            "1:3\n",
            "1:4\n",
            "1:5\n",
            "2:1\n",
            "2:2\n",
            "2:3\n",
            "2:4\n",
            "2:5\n",
            "3:1\n",
            "3:2\n",
            "3:3\n",
            "3:4\n",
            "3:5\n",
            "4:1\n",
            "4:2\n",
            "4:3\n",
            "4:4\n",
            "4:5\n",
            "5:1\n",
            "5:2\n",
            "5:3\n",
            "5:4\n",
            "5:5\n"
          ]
        }
      ]
    },
    {
      "cell_type": "code",
      "source": [
        "for i, j in zip(range(1,6), range(1,6)):\n",
        "  print(f'{i}:{j}')\n",
        "\n",
        "# Output??\n",
        "# Option 1\n",
        "# 1:1\n",
        "# 1:2\n",
        "# 1:3\n",
        "# ....\n",
        "\n",
        "# Option 2\n",
        "# 1:1\n",
        "# 2:2\n",
        "# 3:3\n"
      ],
      "metadata": {
        "colab": {
          "base_uri": "https://localhost:8080/"
        },
        "id": "X1h5Q1Bs-8UU",
        "outputId": "d5def702-5aa7-4ad9-d30e-d7f453f37314"
      },
      "execution_count": null,
      "outputs": [
        {
          "output_type": "stream",
          "name": "stdout",
          "text": [
            "1:1\n",
            "2:2\n",
            "3:3\n",
            "4:4\n",
            "5:5\n"
          ]
        }
      ]
    },
    {
      "cell_type": "code",
      "source": [
        "# Write a python program for a given long integer,\n",
        "# we need to find if the difference between sum of odd position digits and sum of even position digits is 0 or not.\n",
        "# Input: 1212112\n",
        "# Output: Yes\n",
        "# Explanation:\n",
        "# the odd position element is 2+2+1=5\n",
        "# the even position element is 1+1+1+2=5\n",
        "# the difference is 5-5=0 equal to zero .\n",
        "# So print yes.\n",
        "\n",
        "# Time : 8: 25 PM\n",
        "\n",
        "num = 1212112\n",
        "num_str = str(num)\n",
        "sum_odd = 0\n",
        "sum_even = 0\n",
        "\n",
        "for _index, _value in enumerate(num_str):\n",
        "  # print(f'{_index} :{_value}')\n",
        "  if _index % 2 ==0:\n",
        "    sum_even += int(_value)\n",
        "  else:\n",
        "    sum_odd += int(_value)\n",
        "\n",
        "if sum_even - sum_odd == 0:\n",
        "  print('Yes')\n",
        "else:\n",
        "  print('No')"
      ],
      "metadata": {
        "colab": {
          "base_uri": "https://localhost:8080/"
        },
        "id": "NR2Uhcdx_oAc",
        "outputId": "5a4eb758-2ece-492a-d200-d5009df71c96"
      },
      "execution_count": null,
      "outputs": [
        {
          "output_type": "stream",
          "name": "stdout",
          "text": [
            "Yes\n"
          ]
        }
      ]
    },
    {
      "cell_type": "code",
      "source": [
        "out = []\n",
        "for i,j in [(0, '1'), (1, '2'), (2, '1'), (3, '2'), (4, '1'), (5, '1'), (6, '2')]:\n",
        "  if i in (3,5):\n",
        "    continue\n",
        "  out.append((i,j))\n",
        "print(out)"
      ],
      "metadata": {
        "colab": {
          "base_uri": "https://localhost:8080/"
        },
        "id": "1LU-QAAXE4ln",
        "outputId": "1fec6ccc-fc0c-4c54-a2d4-0705ff143789"
      },
      "execution_count": null,
      "outputs": [
        {
          "output_type": "stream",
          "name": "stdout",
          "text": [
            "[(0, '1'), (1, '2'), (2, '1'), (4, '1'), (6, '2')]\n"
          ]
        }
      ]
    },
    {
      "cell_type": "code",
      "source": [
        "out = []\n",
        "for i,j in [(0, '1'), (1, '2'), (2, '1'), (3, '2'), (4, '1'), (5, '1'), (6, '2')]:\n",
        "  if i not in (3,5):\n",
        "    out.append((i,j))\n",
        "print(out)"
      ],
      "metadata": {
        "colab": {
          "base_uri": "https://localhost:8080/"
        },
        "id": "8mI41vI1FSgO",
        "outputId": "f8d4bdc6-ee30-4c40-acb4-47962eac8886"
      },
      "execution_count": null,
      "outputs": [
        {
          "output_type": "stream",
          "name": "stdout",
          "text": [
            "[(0, '1'), (1, '2'), (2, '1'), (4, '1'), (6, '2')]\n"
          ]
        }
      ]
    },
    {
      "cell_type": "code",
      "source": [
        "list(enumerate(num_str))"
      ],
      "metadata": {
        "colab": {
          "base_uri": "https://localhost:8080/"
        },
        "id": "FODsEvzLDlSh",
        "outputId": "7fdffd54-f019-4e23-a072-02e7934b60fe"
      },
      "execution_count": null,
      "outputs": [
        {
          "output_type": "execute_result",
          "data": {
            "text/plain": [
              "[(0, '1'), (1, '2'), (2, '1'), (3, '2'), (4, '1'), (5, '1'), (6, '2')]"
            ]
          },
          "metadata": {},
          "execution_count": 10
        }
      ]
    },
    {
      "cell_type": "code",
      "source": [
        "_var = '1245'\n",
        "type(_var[1])"
      ],
      "metadata": {
        "colab": {
          "base_uri": "https://localhost:8080/"
        },
        "id": "DdxygHgTD1mW",
        "outputId": "03bbb36f-2b96-413e-e0d8-8bf90676cded"
      },
      "execution_count": null,
      "outputs": [
        {
          "output_type": "execute_result",
          "data": {
            "text/plain": [
              "str"
            ]
          },
          "metadata": {},
          "execution_count": 12
        }
      ]
    },
    {
      "cell_type": "code",
      "source": [
        "# Question 4 : # nested for loop :  Nested For loop | Tricky | Take the help of chatgpt and understand\n",
        "'''\n",
        "Given a list of integers, write a Python function that generates and\n",
        "prints all possible sublists of the given list.\n",
        "A sublist is defined as a contiguous segment of the list.\n",
        "\n",
        "input_list = [23, 45, 67, 56]\n",
        "Output =\n",
        "[23]\n",
        "[23, 45]\n",
        "[23, 45, 67]\n",
        "[23, 45, 67, 56]\n",
        "[45]\n",
        "[45, 67]\n",
        "[45, 67, 56]\n",
        "[67]\n",
        "[67, 56]\n",
        "[56]\n",
        "\n",
        "'''\n",
        "input_list = [23, 45, 67, 56]\n",
        "\n",
        "for i in range(len(input_list)): # 0,1,2,3\n",
        "  out = [] # Secondary variable\n",
        "  for j in range(i,len(input_list)) :  #\n",
        "      out.append(input_list[j])\n",
        "      print(out)\n",
        "\n",
        "\n"
      ],
      "metadata": {
        "id": "ypeVEdbZoVQW",
        "colab": {
          "base_uri": "https://localhost:8080/"
        },
        "outputId": "b9b9dca4-4afc-4956-ae50-a3c268c4e36c"
      },
      "execution_count": null,
      "outputs": [
        {
          "output_type": "stream",
          "name": "stdout",
          "text": [
            "[23]\n",
            "[23, 45]\n",
            "[23, 45, 67]\n",
            "[23, 45, 67, 56]\n",
            "[45]\n",
            "[45, 67]\n",
            "[45, 67, 56]\n",
            "[67]\n",
            "[67, 56]\n",
            "[56]\n"
          ]
        }
      ]
    },
    {
      "cell_type": "code",
      "source": [
        "input_list = [23, 45, 67, 56,45,67,80,90]\n",
        "\n",
        "for i in range(len(input_list)): # 0,1,2,3\n",
        "  out = [input_list[i]] # Secondary variable\n",
        "  print(out)\n",
        "  for j in range(i+1,len(input_list)) :  #\n",
        "      out.append(input_list[j])\n",
        "      print(out)"
      ],
      "metadata": {
        "colab": {
          "base_uri": "https://localhost:8080/"
        },
        "id": "WuQrppkMJlCg",
        "outputId": "e9d85990-8904-4ea3-b208-d176fcd737ad"
      },
      "execution_count": null,
      "outputs": [
        {
          "output_type": "stream",
          "name": "stdout",
          "text": [
            "[23]\n",
            "[23, 45]\n",
            "[23, 45, 67]\n",
            "[23, 45, 67, 56]\n",
            "[23, 45, 67, 56, 45]\n",
            "[23, 45, 67, 56, 45, 67]\n",
            "[23, 45, 67, 56, 45, 67, 80]\n",
            "[23, 45, 67, 56, 45, 67, 80, 90]\n",
            "[45]\n",
            "[45, 67]\n",
            "[45, 67, 56]\n",
            "[45, 67, 56, 45]\n",
            "[45, 67, 56, 45, 67]\n",
            "[45, 67, 56, 45, 67, 80]\n",
            "[45, 67, 56, 45, 67, 80, 90]\n",
            "[67]\n",
            "[67, 56]\n",
            "[67, 56, 45]\n",
            "[67, 56, 45, 67]\n",
            "[67, 56, 45, 67, 80]\n",
            "[67, 56, 45, 67, 80, 90]\n",
            "[56]\n",
            "[56, 45]\n",
            "[56, 45, 67]\n",
            "[56, 45, 67, 80]\n",
            "[56, 45, 67, 80, 90]\n",
            "[45]\n",
            "[45, 67]\n",
            "[45, 67, 80]\n",
            "[45, 67, 80, 90]\n",
            "[67]\n",
            "[67, 80]\n",
            "[67, 80, 90]\n",
            "[80]\n",
            "[80, 90]\n",
            "[90]\n"
          ]
        }
      ]
    },
    {
      "cell_type": "code",
      "source": [
        "input_list = [45,67,89,12]\n",
        "i = 2\n",
        "input_list[i]\n",
        "out = [input_list[i]] # [89]\n",
        "print(out)\n",
        "print(input_list)\n",
        "out = [input_list]\n",
        "print(out)"
      ],
      "metadata": {
        "colab": {
          "base_uri": "https://localhost:8080/"
        },
        "id": "mt9WnKH9OleV",
        "outputId": "1f56ba28-a06c-4f56-c67b-6a638bad1cd4"
      },
      "execution_count": null,
      "outputs": [
        {
          "output_type": "stream",
          "name": "stdout",
          "text": [
            "[89]\n",
            "[45, 67, 89, 12]\n",
            "[[45, 67, 89, 12]]\n"
          ]
        }
      ]
    },
    {
      "cell_type": "code",
      "source": [
        "'''\n",
        "Given a list of integers, write a Python function that generates and\n",
        "prints max values of each possible sublists of the given list.\n",
        "A sublist is defined as a contiguous segment of the list.\n",
        "\n",
        "input_list = [23, 45, 67, 56]\n",
        "Output =\n",
        "23, 45, 67,67, 45,67,67,67,67,56\n",
        "\n",
        "Logic -\n",
        "\n",
        "[23] --> 23\n",
        "[23, 45] --> 45\n",
        "[23, 45, 67] --> 67\n",
        "[23, 45, 67, 56] --> 67\n",
        "[45] --> 45\n",
        "[45, 67] --> 67\n",
        "[45, 67, 56] --> 67\n",
        "[67] --> 67\n",
        "[67, 56] --> 67\n",
        "[56] --> 56\n",
        "\n",
        "'''"
      ],
      "metadata": {
        "id": "8ed4l1Gj35N2"
      },
      "execution_count": null,
      "outputs": []
    },
    {
      "cell_type": "code",
      "source": [],
      "metadata": {
        "id": "uv1VsngAAjA4"
      },
      "execution_count": null,
      "outputs": []
    }
  ]
}